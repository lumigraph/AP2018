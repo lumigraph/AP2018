{
  "nbformat": 4,
  "nbformat_minor": 0,
  "metadata": {
    "kernelspec": {
      "display_name": "Python [default]",
      "language": "python",
      "name": "python3"
    },
    "language_info": {
      "codemirror_mode": {
        "name": "ipython",
        "version": 3
      },
      "file_extension": ".py",
      "mimetype": "text/x-python",
      "name": "python",
      "nbconvert_exporter": "python",
      "pygments_lexer": "ipython3",
      "version": "3.6.4"
    },
    "colab": {
      "name": "Part 2 - Neural Networks in PyTorch (Exercises).ipynb",
      "provenance": []
    },
    "widgets": {
      "application/vnd.jupyter.widget-state+json": {
        "126956c6fa434a1e84bc22545a5ffc71": {
          "model_module": "@jupyter-widgets/controls",
          "model_name": "HBoxModel",
          "state": {
            "_view_name": "HBoxView",
            "_dom_classes": [],
            "_model_name": "HBoxModel",
            "_view_module": "@jupyter-widgets/controls",
            "_model_module_version": "1.5.0",
            "_view_count": null,
            "_view_module_version": "1.5.0",
            "box_style": "",
            "layout": "IPY_MODEL_f66e76a5ce7f4747bae3ed6da968a75e",
            "_model_module": "@jupyter-widgets/controls",
            "children": [
              "IPY_MODEL_bda3d9358c754de3911271310c15b5fb",
              "IPY_MODEL_aac6f902473944c9b2b76d340381775a"
            ]
          }
        },
        "f66e76a5ce7f4747bae3ed6da968a75e": {
          "model_module": "@jupyter-widgets/base",
          "model_name": "LayoutModel",
          "state": {
            "_view_name": "LayoutView",
            "grid_template_rows": null,
            "right": null,
            "justify_content": null,
            "_view_module": "@jupyter-widgets/base",
            "overflow": null,
            "_model_module_version": "1.2.0",
            "_view_count": null,
            "flex_flow": null,
            "width": null,
            "min_width": null,
            "border": null,
            "align_items": null,
            "bottom": null,
            "_model_module": "@jupyter-widgets/base",
            "top": null,
            "grid_column": null,
            "overflow_y": null,
            "overflow_x": null,
            "grid_auto_flow": null,
            "grid_area": null,
            "grid_template_columns": null,
            "flex": null,
            "_model_name": "LayoutModel",
            "justify_items": null,
            "grid_row": null,
            "max_height": null,
            "align_content": null,
            "visibility": null,
            "align_self": null,
            "height": null,
            "min_height": null,
            "padding": null,
            "grid_auto_rows": null,
            "grid_gap": null,
            "max_width": null,
            "order": null,
            "_view_module_version": "1.2.0",
            "grid_template_areas": null,
            "object_position": null,
            "object_fit": null,
            "grid_auto_columns": null,
            "margin": null,
            "display": null,
            "left": null
          }
        },
        "bda3d9358c754de3911271310c15b5fb": {
          "model_module": "@jupyter-widgets/controls",
          "model_name": "FloatProgressModel",
          "state": {
            "_view_name": "ProgressView",
            "style": "IPY_MODEL_6f7c474ba6c144eba3e331b5a1434482",
            "_dom_classes": [],
            "description": "",
            "_model_name": "FloatProgressModel",
            "bar_style": "success",
            "max": 9912422,
            "_view_module": "@jupyter-widgets/controls",
            "_model_module_version": "1.5.0",
            "value": 9912422,
            "_view_count": null,
            "_view_module_version": "1.5.0",
            "orientation": "horizontal",
            "min": 0,
            "description_tooltip": null,
            "_model_module": "@jupyter-widgets/controls",
            "layout": "IPY_MODEL_b45578dc99ad4138ac9e03565814100c"
          }
        },
        "aac6f902473944c9b2b76d340381775a": {
          "model_module": "@jupyter-widgets/controls",
          "model_name": "HTMLModel",
          "state": {
            "_view_name": "HTMLView",
            "style": "IPY_MODEL_101d550477734d629f9f3e731a761a50",
            "_dom_classes": [],
            "description": "",
            "_model_name": "HTMLModel",
            "placeholder": "​",
            "_view_module": "@jupyter-widgets/controls",
            "_model_module_version": "1.5.0",
            "value": " 9913344/? [00:45&lt;00:00, 215852.90it/s]",
            "_view_count": null,
            "_view_module_version": "1.5.0",
            "description_tooltip": null,
            "_model_module": "@jupyter-widgets/controls",
            "layout": "IPY_MODEL_d1468eb3dc63479fa2072512d69536e5"
          }
        },
        "6f7c474ba6c144eba3e331b5a1434482": {
          "model_module": "@jupyter-widgets/controls",
          "model_name": "ProgressStyleModel",
          "state": {
            "_view_name": "StyleView",
            "_model_name": "ProgressStyleModel",
            "description_width": "initial",
            "_view_module": "@jupyter-widgets/base",
            "_model_module_version": "1.5.0",
            "_view_count": null,
            "_view_module_version": "1.2.0",
            "bar_color": null,
            "_model_module": "@jupyter-widgets/controls"
          }
        },
        "b45578dc99ad4138ac9e03565814100c": {
          "model_module": "@jupyter-widgets/base",
          "model_name": "LayoutModel",
          "state": {
            "_view_name": "LayoutView",
            "grid_template_rows": null,
            "right": null,
            "justify_content": null,
            "_view_module": "@jupyter-widgets/base",
            "overflow": null,
            "_model_module_version": "1.2.0",
            "_view_count": null,
            "flex_flow": null,
            "width": null,
            "min_width": null,
            "border": null,
            "align_items": null,
            "bottom": null,
            "_model_module": "@jupyter-widgets/base",
            "top": null,
            "grid_column": null,
            "overflow_y": null,
            "overflow_x": null,
            "grid_auto_flow": null,
            "grid_area": null,
            "grid_template_columns": null,
            "flex": null,
            "_model_name": "LayoutModel",
            "justify_items": null,
            "grid_row": null,
            "max_height": null,
            "align_content": null,
            "visibility": null,
            "align_self": null,
            "height": null,
            "min_height": null,
            "padding": null,
            "grid_auto_rows": null,
            "grid_gap": null,
            "max_width": null,
            "order": null,
            "_view_module_version": "1.2.0",
            "grid_template_areas": null,
            "object_position": null,
            "object_fit": null,
            "grid_auto_columns": null,
            "margin": null,
            "display": null,
            "left": null
          }
        },
        "101d550477734d629f9f3e731a761a50": {
          "model_module": "@jupyter-widgets/controls",
          "model_name": "DescriptionStyleModel",
          "state": {
            "_view_name": "StyleView",
            "_model_name": "DescriptionStyleModel",
            "description_width": "",
            "_view_module": "@jupyter-widgets/base",
            "_model_module_version": "1.5.0",
            "_view_count": null,
            "_view_module_version": "1.2.0",
            "_model_module": "@jupyter-widgets/controls"
          }
        },
        "d1468eb3dc63479fa2072512d69536e5": {
          "model_module": "@jupyter-widgets/base",
          "model_name": "LayoutModel",
          "state": {
            "_view_name": "LayoutView",
            "grid_template_rows": null,
            "right": null,
            "justify_content": null,
            "_view_module": "@jupyter-widgets/base",
            "overflow": null,
            "_model_module_version": "1.2.0",
            "_view_count": null,
            "flex_flow": null,
            "width": null,
            "min_width": null,
            "border": null,
            "align_items": null,
            "bottom": null,
            "_model_module": "@jupyter-widgets/base",
            "top": null,
            "grid_column": null,
            "overflow_y": null,
            "overflow_x": null,
            "grid_auto_flow": null,
            "grid_area": null,
            "grid_template_columns": null,
            "flex": null,
            "_model_name": "LayoutModel",
            "justify_items": null,
            "grid_row": null,
            "max_height": null,
            "align_content": null,
            "visibility": null,
            "align_self": null,
            "height": null,
            "min_height": null,
            "padding": null,
            "grid_auto_rows": null,
            "grid_gap": null,
            "max_width": null,
            "order": null,
            "_view_module_version": "1.2.0",
            "grid_template_areas": null,
            "object_position": null,
            "object_fit": null,
            "grid_auto_columns": null,
            "margin": null,
            "display": null,
            "left": null
          }
        },
        "03773f80c542455c9e42f87e43967cca": {
          "model_module": "@jupyter-widgets/controls",
          "model_name": "HBoxModel",
          "state": {
            "_view_name": "HBoxView",
            "_dom_classes": [],
            "_model_name": "HBoxModel",
            "_view_module": "@jupyter-widgets/controls",
            "_model_module_version": "1.5.0",
            "_view_count": null,
            "_view_module_version": "1.5.0",
            "box_style": "",
            "layout": "IPY_MODEL_b0fadbc9a9dc41f1a5fd9ccf55899b23",
            "_model_module": "@jupyter-widgets/controls",
            "children": [
              "IPY_MODEL_05369aff40dd4ebf97c6ec041e5a253c",
              "IPY_MODEL_68eddb4e2dfb4b16af1c31f4c6371d99"
            ]
          }
        },
        "b0fadbc9a9dc41f1a5fd9ccf55899b23": {
          "model_module": "@jupyter-widgets/base",
          "model_name": "LayoutModel",
          "state": {
            "_view_name": "LayoutView",
            "grid_template_rows": null,
            "right": null,
            "justify_content": null,
            "_view_module": "@jupyter-widgets/base",
            "overflow": null,
            "_model_module_version": "1.2.0",
            "_view_count": null,
            "flex_flow": null,
            "width": null,
            "min_width": null,
            "border": null,
            "align_items": null,
            "bottom": null,
            "_model_module": "@jupyter-widgets/base",
            "top": null,
            "grid_column": null,
            "overflow_y": null,
            "overflow_x": null,
            "grid_auto_flow": null,
            "grid_area": null,
            "grid_template_columns": null,
            "flex": null,
            "_model_name": "LayoutModel",
            "justify_items": null,
            "grid_row": null,
            "max_height": null,
            "align_content": null,
            "visibility": null,
            "align_self": null,
            "height": null,
            "min_height": null,
            "padding": null,
            "grid_auto_rows": null,
            "grid_gap": null,
            "max_width": null,
            "order": null,
            "_view_module_version": "1.2.0",
            "grid_template_areas": null,
            "object_position": null,
            "object_fit": null,
            "grid_auto_columns": null,
            "margin": null,
            "display": null,
            "left": null
          }
        },
        "05369aff40dd4ebf97c6ec041e5a253c": {
          "model_module": "@jupyter-widgets/controls",
          "model_name": "FloatProgressModel",
          "state": {
            "_view_name": "ProgressView",
            "style": "IPY_MODEL_42a032c4f95c4e0aae460eb945e63f65",
            "_dom_classes": [],
            "description": "",
            "_model_name": "FloatProgressModel",
            "bar_style": "success",
            "max": 28881,
            "_view_module": "@jupyter-widgets/controls",
            "_model_module_version": "1.5.0",
            "value": 28881,
            "_view_count": null,
            "_view_module_version": "1.5.0",
            "orientation": "horizontal",
            "min": 0,
            "description_tooltip": null,
            "_model_module": "@jupyter-widgets/controls",
            "layout": "IPY_MODEL_192987a9477d4eb4acc8a7ffc8840671"
          }
        },
        "68eddb4e2dfb4b16af1c31f4c6371d99": {
          "model_module": "@jupyter-widgets/controls",
          "model_name": "HTMLModel",
          "state": {
            "_view_name": "HTMLView",
            "style": "IPY_MODEL_5645290247d346869041eb2bc306c617",
            "_dom_classes": [],
            "description": "",
            "_model_name": "HTMLModel",
            "placeholder": "​",
            "_view_module": "@jupyter-widgets/controls",
            "_model_module_version": "1.5.0",
            "value": " 29696/? [00:42&lt;00:00, 698.26it/s]",
            "_view_count": null,
            "_view_module_version": "1.5.0",
            "description_tooltip": null,
            "_model_module": "@jupyter-widgets/controls",
            "layout": "IPY_MODEL_b1cc6988ea204ce0a3a885f2dfa3a922"
          }
        },
        "42a032c4f95c4e0aae460eb945e63f65": {
          "model_module": "@jupyter-widgets/controls",
          "model_name": "ProgressStyleModel",
          "state": {
            "_view_name": "StyleView",
            "_model_name": "ProgressStyleModel",
            "description_width": "initial",
            "_view_module": "@jupyter-widgets/base",
            "_model_module_version": "1.5.0",
            "_view_count": null,
            "_view_module_version": "1.2.0",
            "bar_color": null,
            "_model_module": "@jupyter-widgets/controls"
          }
        },
        "192987a9477d4eb4acc8a7ffc8840671": {
          "model_module": "@jupyter-widgets/base",
          "model_name": "LayoutModel",
          "state": {
            "_view_name": "LayoutView",
            "grid_template_rows": null,
            "right": null,
            "justify_content": null,
            "_view_module": "@jupyter-widgets/base",
            "overflow": null,
            "_model_module_version": "1.2.0",
            "_view_count": null,
            "flex_flow": null,
            "width": null,
            "min_width": null,
            "border": null,
            "align_items": null,
            "bottom": null,
            "_model_module": "@jupyter-widgets/base",
            "top": null,
            "grid_column": null,
            "overflow_y": null,
            "overflow_x": null,
            "grid_auto_flow": null,
            "grid_area": null,
            "grid_template_columns": null,
            "flex": null,
            "_model_name": "LayoutModel",
            "justify_items": null,
            "grid_row": null,
            "max_height": null,
            "align_content": null,
            "visibility": null,
            "align_self": null,
            "height": null,
            "min_height": null,
            "padding": null,
            "grid_auto_rows": null,
            "grid_gap": null,
            "max_width": null,
            "order": null,
            "_view_module_version": "1.2.0",
            "grid_template_areas": null,
            "object_position": null,
            "object_fit": null,
            "grid_auto_columns": null,
            "margin": null,
            "display": null,
            "left": null
          }
        },
        "5645290247d346869041eb2bc306c617": {
          "model_module": "@jupyter-widgets/controls",
          "model_name": "DescriptionStyleModel",
          "state": {
            "_view_name": "StyleView",
            "_model_name": "DescriptionStyleModel",
            "description_width": "",
            "_view_module": "@jupyter-widgets/base",
            "_model_module_version": "1.5.0",
            "_view_count": null,
            "_view_module_version": "1.2.0",
            "_model_module": "@jupyter-widgets/controls"
          }
        },
        "b1cc6988ea204ce0a3a885f2dfa3a922": {
          "model_module": "@jupyter-widgets/base",
          "model_name": "LayoutModel",
          "state": {
            "_view_name": "LayoutView",
            "grid_template_rows": null,
            "right": null,
            "justify_content": null,
            "_view_module": "@jupyter-widgets/base",
            "overflow": null,
            "_model_module_version": "1.2.0",
            "_view_count": null,
            "flex_flow": null,
            "width": null,
            "min_width": null,
            "border": null,
            "align_items": null,
            "bottom": null,
            "_model_module": "@jupyter-widgets/base",
            "top": null,
            "grid_column": null,
            "overflow_y": null,
            "overflow_x": null,
            "grid_auto_flow": null,
            "grid_area": null,
            "grid_template_columns": null,
            "flex": null,
            "_model_name": "LayoutModel",
            "justify_items": null,
            "grid_row": null,
            "max_height": null,
            "align_content": null,
            "visibility": null,
            "align_self": null,
            "height": null,
            "min_height": null,
            "padding": null,
            "grid_auto_rows": null,
            "grid_gap": null,
            "max_width": null,
            "order": null,
            "_view_module_version": "1.2.0",
            "grid_template_areas": null,
            "object_position": null,
            "object_fit": null,
            "grid_auto_columns": null,
            "margin": null,
            "display": null,
            "left": null
          }
        },
        "afa7cbf19f594e16b88efd5244a9fc92": {
          "model_module": "@jupyter-widgets/controls",
          "model_name": "HBoxModel",
          "state": {
            "_view_name": "HBoxView",
            "_dom_classes": [],
            "_model_name": "HBoxModel",
            "_view_module": "@jupyter-widgets/controls",
            "_model_module_version": "1.5.0",
            "_view_count": null,
            "_view_module_version": "1.5.0",
            "box_style": "",
            "layout": "IPY_MODEL_8c83390400b3496ca98ac53f8a1bbbe5",
            "_model_module": "@jupyter-widgets/controls",
            "children": [
              "IPY_MODEL_a232b322008e403d8910082d2fd5dc5a",
              "IPY_MODEL_9fe945cc02a0440fb9ff7e0db3e64789"
            ]
          }
        },
        "8c83390400b3496ca98ac53f8a1bbbe5": {
          "model_module": "@jupyter-widgets/base",
          "model_name": "LayoutModel",
          "state": {
            "_view_name": "LayoutView",
            "grid_template_rows": null,
            "right": null,
            "justify_content": null,
            "_view_module": "@jupyter-widgets/base",
            "overflow": null,
            "_model_module_version": "1.2.0",
            "_view_count": null,
            "flex_flow": null,
            "width": null,
            "min_width": null,
            "border": null,
            "align_items": null,
            "bottom": null,
            "_model_module": "@jupyter-widgets/base",
            "top": null,
            "grid_column": null,
            "overflow_y": null,
            "overflow_x": null,
            "grid_auto_flow": null,
            "grid_area": null,
            "grid_template_columns": null,
            "flex": null,
            "_model_name": "LayoutModel",
            "justify_items": null,
            "grid_row": null,
            "max_height": null,
            "align_content": null,
            "visibility": null,
            "align_self": null,
            "height": null,
            "min_height": null,
            "padding": null,
            "grid_auto_rows": null,
            "grid_gap": null,
            "max_width": null,
            "order": null,
            "_view_module_version": "1.2.0",
            "grid_template_areas": null,
            "object_position": null,
            "object_fit": null,
            "grid_auto_columns": null,
            "margin": null,
            "display": null,
            "left": null
          }
        },
        "a232b322008e403d8910082d2fd5dc5a": {
          "model_module": "@jupyter-widgets/controls",
          "model_name": "FloatProgressModel",
          "state": {
            "_view_name": "ProgressView",
            "style": "IPY_MODEL_1d5c6d2b71194fcf94f01962d4f12a24",
            "_dom_classes": [],
            "description": "",
            "_model_name": "FloatProgressModel",
            "bar_style": "success",
            "max": 1648877,
            "_view_module": "@jupyter-widgets/controls",
            "_model_module_version": "1.5.0",
            "value": 1648877,
            "_view_count": null,
            "_view_module_version": "1.5.0",
            "orientation": "horizontal",
            "min": 0,
            "description_tooltip": null,
            "_model_module": "@jupyter-widgets/controls",
            "layout": "IPY_MODEL_b94be73d0e7e4ce2a3eec02ed3958b6b"
          }
        },
        "9fe945cc02a0440fb9ff7e0db3e64789": {
          "model_module": "@jupyter-widgets/controls",
          "model_name": "HTMLModel",
          "state": {
            "_view_name": "HTMLView",
            "style": "IPY_MODEL_c0d2151ca74d43a7953fe39892628443",
            "_dom_classes": [],
            "description": "",
            "_model_name": "HTMLModel",
            "placeholder": "​",
            "_view_module": "@jupyter-widgets/controls",
            "_model_module_version": "1.5.0",
            "value": " 1649664/? [00:34&lt;00:00, 47742.91it/s]",
            "_view_count": null,
            "_view_module_version": "1.5.0",
            "description_tooltip": null,
            "_model_module": "@jupyter-widgets/controls",
            "layout": "IPY_MODEL_2ffdb108aa384929ab4ee6797ea6414c"
          }
        },
        "1d5c6d2b71194fcf94f01962d4f12a24": {
          "model_module": "@jupyter-widgets/controls",
          "model_name": "ProgressStyleModel",
          "state": {
            "_view_name": "StyleView",
            "_model_name": "ProgressStyleModel",
            "description_width": "initial",
            "_view_module": "@jupyter-widgets/base",
            "_model_module_version": "1.5.0",
            "_view_count": null,
            "_view_module_version": "1.2.0",
            "bar_color": null,
            "_model_module": "@jupyter-widgets/controls"
          }
        },
        "b94be73d0e7e4ce2a3eec02ed3958b6b": {
          "model_module": "@jupyter-widgets/base",
          "model_name": "LayoutModel",
          "state": {
            "_view_name": "LayoutView",
            "grid_template_rows": null,
            "right": null,
            "justify_content": null,
            "_view_module": "@jupyter-widgets/base",
            "overflow": null,
            "_model_module_version": "1.2.0",
            "_view_count": null,
            "flex_flow": null,
            "width": null,
            "min_width": null,
            "border": null,
            "align_items": null,
            "bottom": null,
            "_model_module": "@jupyter-widgets/base",
            "top": null,
            "grid_column": null,
            "overflow_y": null,
            "overflow_x": null,
            "grid_auto_flow": null,
            "grid_area": null,
            "grid_template_columns": null,
            "flex": null,
            "_model_name": "LayoutModel",
            "justify_items": null,
            "grid_row": null,
            "max_height": null,
            "align_content": null,
            "visibility": null,
            "align_self": null,
            "height": null,
            "min_height": null,
            "padding": null,
            "grid_auto_rows": null,
            "grid_gap": null,
            "max_width": null,
            "order": null,
            "_view_module_version": "1.2.0",
            "grid_template_areas": null,
            "object_position": null,
            "object_fit": null,
            "grid_auto_columns": null,
            "margin": null,
            "display": null,
            "left": null
          }
        },
        "c0d2151ca74d43a7953fe39892628443": {
          "model_module": "@jupyter-widgets/controls",
          "model_name": "DescriptionStyleModel",
          "state": {
            "_view_name": "StyleView",
            "_model_name": "DescriptionStyleModel",
            "description_width": "",
            "_view_module": "@jupyter-widgets/base",
            "_model_module_version": "1.5.0",
            "_view_count": null,
            "_view_module_version": "1.2.0",
            "_model_module": "@jupyter-widgets/controls"
          }
        },
        "2ffdb108aa384929ab4ee6797ea6414c": {
          "model_module": "@jupyter-widgets/base",
          "model_name": "LayoutModel",
          "state": {
            "_view_name": "LayoutView",
            "grid_template_rows": null,
            "right": null,
            "justify_content": null,
            "_view_module": "@jupyter-widgets/base",
            "overflow": null,
            "_model_module_version": "1.2.0",
            "_view_count": null,
            "flex_flow": null,
            "width": null,
            "min_width": null,
            "border": null,
            "align_items": null,
            "bottom": null,
            "_model_module": "@jupyter-widgets/base",
            "top": null,
            "grid_column": null,
            "overflow_y": null,
            "overflow_x": null,
            "grid_auto_flow": null,
            "grid_area": null,
            "grid_template_columns": null,
            "flex": null,
            "_model_name": "LayoutModel",
            "justify_items": null,
            "grid_row": null,
            "max_height": null,
            "align_content": null,
            "visibility": null,
            "align_self": null,
            "height": null,
            "min_height": null,
            "padding": null,
            "grid_auto_rows": null,
            "grid_gap": null,
            "max_width": null,
            "order": null,
            "_view_module_version": "1.2.0",
            "grid_template_areas": null,
            "object_position": null,
            "object_fit": null,
            "grid_auto_columns": null,
            "margin": null,
            "display": null,
            "left": null
          }
        },
        "994237087d4a482491690602a2949b08": {
          "model_module": "@jupyter-widgets/controls",
          "model_name": "HBoxModel",
          "state": {
            "_view_name": "HBoxView",
            "_dom_classes": [],
            "_model_name": "HBoxModel",
            "_view_module": "@jupyter-widgets/controls",
            "_model_module_version": "1.5.0",
            "_view_count": null,
            "_view_module_version": "1.5.0",
            "box_style": "",
            "layout": "IPY_MODEL_a1f60a2a2e5e4bb2be6d92fb2ac77017",
            "_model_module": "@jupyter-widgets/controls",
            "children": [
              "IPY_MODEL_2b4705abacfe48d3a06dbf521f6eef71",
              "IPY_MODEL_03460077e1d84cb29309499ee835da73"
            ]
          }
        },
        "a1f60a2a2e5e4bb2be6d92fb2ac77017": {
          "model_module": "@jupyter-widgets/base",
          "model_name": "LayoutModel",
          "state": {
            "_view_name": "LayoutView",
            "grid_template_rows": null,
            "right": null,
            "justify_content": null,
            "_view_module": "@jupyter-widgets/base",
            "overflow": null,
            "_model_module_version": "1.2.0",
            "_view_count": null,
            "flex_flow": null,
            "width": null,
            "min_width": null,
            "border": null,
            "align_items": null,
            "bottom": null,
            "_model_module": "@jupyter-widgets/base",
            "top": null,
            "grid_column": null,
            "overflow_y": null,
            "overflow_x": null,
            "grid_auto_flow": null,
            "grid_area": null,
            "grid_template_columns": null,
            "flex": null,
            "_model_name": "LayoutModel",
            "justify_items": null,
            "grid_row": null,
            "max_height": null,
            "align_content": null,
            "visibility": null,
            "align_self": null,
            "height": null,
            "min_height": null,
            "padding": null,
            "grid_auto_rows": null,
            "grid_gap": null,
            "max_width": null,
            "order": null,
            "_view_module_version": "1.2.0",
            "grid_template_areas": null,
            "object_position": null,
            "object_fit": null,
            "grid_auto_columns": null,
            "margin": null,
            "display": null,
            "left": null
          }
        },
        "2b4705abacfe48d3a06dbf521f6eef71": {
          "model_module": "@jupyter-widgets/controls",
          "model_name": "FloatProgressModel",
          "state": {
            "_view_name": "ProgressView",
            "style": "IPY_MODEL_a7f7449dbfe64da180e5bcc929b31832",
            "_dom_classes": [],
            "description": "",
            "_model_name": "FloatProgressModel",
            "bar_style": "success",
            "max": 4542,
            "_view_module": "@jupyter-widgets/controls",
            "_model_module_version": "1.5.0",
            "value": 4542,
            "_view_count": null,
            "_view_module_version": "1.5.0",
            "orientation": "horizontal",
            "min": 0,
            "description_tooltip": null,
            "_model_module": "@jupyter-widgets/controls",
            "layout": "IPY_MODEL_2b4718c14fe245bea812b8eddadf172b"
          }
        },
        "03460077e1d84cb29309499ee835da73": {
          "model_module": "@jupyter-widgets/controls",
          "model_name": "HTMLModel",
          "state": {
            "_view_name": "HTMLView",
            "style": "IPY_MODEL_3abca6bab1d7439792a4394d41bb59b9",
            "_dom_classes": [],
            "description": "",
            "_model_name": "HTMLModel",
            "placeholder": "​",
            "_view_module": "@jupyter-widgets/controls",
            "_model_module_version": "1.5.0",
            "value": " 5120/? [00:32&lt;00:00, 158.72it/s]",
            "_view_count": null,
            "_view_module_version": "1.5.0",
            "description_tooltip": null,
            "_model_module": "@jupyter-widgets/controls",
            "layout": "IPY_MODEL_6e8bb1c6beb641af995465424811b9e7"
          }
        },
        "a7f7449dbfe64da180e5bcc929b31832": {
          "model_module": "@jupyter-widgets/controls",
          "model_name": "ProgressStyleModel",
          "state": {
            "_view_name": "StyleView",
            "_model_name": "ProgressStyleModel",
            "description_width": "initial",
            "_view_module": "@jupyter-widgets/base",
            "_model_module_version": "1.5.0",
            "_view_count": null,
            "_view_module_version": "1.2.0",
            "bar_color": null,
            "_model_module": "@jupyter-widgets/controls"
          }
        },
        "2b4718c14fe245bea812b8eddadf172b": {
          "model_module": "@jupyter-widgets/base",
          "model_name": "LayoutModel",
          "state": {
            "_view_name": "LayoutView",
            "grid_template_rows": null,
            "right": null,
            "justify_content": null,
            "_view_module": "@jupyter-widgets/base",
            "overflow": null,
            "_model_module_version": "1.2.0",
            "_view_count": null,
            "flex_flow": null,
            "width": null,
            "min_width": null,
            "border": null,
            "align_items": null,
            "bottom": null,
            "_model_module": "@jupyter-widgets/base",
            "top": null,
            "grid_column": null,
            "overflow_y": null,
            "overflow_x": null,
            "grid_auto_flow": null,
            "grid_area": null,
            "grid_template_columns": null,
            "flex": null,
            "_model_name": "LayoutModel",
            "justify_items": null,
            "grid_row": null,
            "max_height": null,
            "align_content": null,
            "visibility": null,
            "align_self": null,
            "height": null,
            "min_height": null,
            "padding": null,
            "grid_auto_rows": null,
            "grid_gap": null,
            "max_width": null,
            "order": null,
            "_view_module_version": "1.2.0",
            "grid_template_areas": null,
            "object_position": null,
            "object_fit": null,
            "grid_auto_columns": null,
            "margin": null,
            "display": null,
            "left": null
          }
        },
        "3abca6bab1d7439792a4394d41bb59b9": {
          "model_module": "@jupyter-widgets/controls",
          "model_name": "DescriptionStyleModel",
          "state": {
            "_view_name": "StyleView",
            "_model_name": "DescriptionStyleModel",
            "description_width": "",
            "_view_module": "@jupyter-widgets/base",
            "_model_module_version": "1.5.0",
            "_view_count": null,
            "_view_module_version": "1.2.0",
            "_model_module": "@jupyter-widgets/controls"
          }
        },
        "6e8bb1c6beb641af995465424811b9e7": {
          "model_module": "@jupyter-widgets/base",
          "model_name": "LayoutModel",
          "state": {
            "_view_name": "LayoutView",
            "grid_template_rows": null,
            "right": null,
            "justify_content": null,
            "_view_module": "@jupyter-widgets/base",
            "overflow": null,
            "_model_module_version": "1.2.0",
            "_view_count": null,
            "flex_flow": null,
            "width": null,
            "min_width": null,
            "border": null,
            "align_items": null,
            "bottom": null,
            "_model_module": "@jupyter-widgets/base",
            "top": null,
            "grid_column": null,
            "overflow_y": null,
            "overflow_x": null,
            "grid_auto_flow": null,
            "grid_area": null,
            "grid_template_columns": null,
            "flex": null,
            "_model_name": "LayoutModel",
            "justify_items": null,
            "grid_row": null,
            "max_height": null,
            "align_content": null,
            "visibility": null,
            "align_self": null,
            "height": null,
            "min_height": null,
            "padding": null,
            "grid_auto_rows": null,
            "grid_gap": null,
            "max_width": null,
            "order": null,
            "_view_module_version": "1.2.0",
            "grid_template_areas": null,
            "object_position": null,
            "object_fit": null,
            "grid_auto_columns": null,
            "margin": null,
            "display": null,
            "left": null
          }
        }
      }
    }
  },
  "cells": [
    {
      "cell_type": "markdown",
      "metadata": {
        "id": "ALg7qJH9HJgi"
      },
      "source": [
        "# Neural networks with PyTorch\n",
        "\n",
        "Deep learning networks tend to be massive with dozens or hundreds of layers, that's where the term \"deep\" comes from. You can build one of these deep networks using only weight matrices as we did in the previous notebook, but in general it's very cumbersome and difficult to implement. PyTorch has a nice module `nn` that provides a nice way to efficiently build large neural networks."
      ]
    },
    {
      "cell_type": "code",
      "metadata": {
        "collapsed": true,
        "id": "jmRIwLq6HJgk"
      },
      "source": [
        "# Import necessary packages\n",
        "\n",
        "%matplotlib inline\n",
        "%config InlineBackend.figure_format = 'retina'\n",
        "\n",
        "import numpy as np\n",
        "import torch\n",
        "\n",
        "import helper\n",
        "\n",
        "import matplotlib.pyplot as plt"
      ],
      "execution_count": 1,
      "outputs": []
    },
    {
      "cell_type": "markdown",
      "metadata": {
        "id": "u21CneWQHJgl"
      },
      "source": [
        "\n",
        "Now we're going to build a larger network that can solve a (formerly) difficult problem, identifying text in an image. Here we'll use the MNIST dataset which consists of greyscale handwritten digits. Each image is 28x28 pixels, you can see a sample below\n",
        "\n",
        "<img src='https://github.com/udacity/deep-learning-v2-pytorch/blob/master/intro-to-pytorch/assets/mnist.png?raw=1'>\n",
        "\n",
        "Our goal is to build a neural network that can take one of these images and predict the digit in the image.\n",
        "\n",
        "First up, we need to get our dataset. This is provided through the `torchvision` package. The code below will download the MNIST dataset, then create training and test datasets for us. Don't worry too much about the details here, you'll learn more about this later."
      ]
    },
    {
      "cell_type": "code",
      "metadata": {
        "id": "OpPmLQyEHJgm"
      },
      "source": [
        "# The MNIST datasets are hosted on yann.lecun.com that has moved under CloudFlare protection\n",
        "# Run this script to enable the datasets download\n",
        "# Reference: https://github.com/pytorch/vision/issues/1938\n",
        "\n",
        "from six.moves import urllib\n",
        "opener = urllib.request.build_opener()\n",
        "opener.addheaders = [('User-agent', 'Mozilla/5.0')]\n",
        "urllib.request.install_opener(opener)"
      ],
      "execution_count": 2,
      "outputs": []
    },
    {
      "cell_type": "code",
      "metadata": {
        "collapsed": true,
        "id": "ZqcOBwaFHJgn",
        "outputId": "34a2d723-c6fe-4347-c70e-76fcc4337bc1",
        "colab": {
          "base_uri": "https://localhost:8080/",
          "height": 744,
          "referenced_widgets": [
            "126956c6fa434a1e84bc22545a5ffc71",
            "f66e76a5ce7f4747bae3ed6da968a75e",
            "bda3d9358c754de3911271310c15b5fb",
            "aac6f902473944c9b2b76d340381775a",
            "6f7c474ba6c144eba3e331b5a1434482",
            "b45578dc99ad4138ac9e03565814100c",
            "101d550477734d629f9f3e731a761a50",
            "d1468eb3dc63479fa2072512d69536e5",
            "03773f80c542455c9e42f87e43967cca",
            "b0fadbc9a9dc41f1a5fd9ccf55899b23",
            "05369aff40dd4ebf97c6ec041e5a253c",
            "68eddb4e2dfb4b16af1c31f4c6371d99",
            "42a032c4f95c4e0aae460eb945e63f65",
            "192987a9477d4eb4acc8a7ffc8840671",
            "5645290247d346869041eb2bc306c617",
            "b1cc6988ea204ce0a3a885f2dfa3a922",
            "afa7cbf19f594e16b88efd5244a9fc92",
            "8c83390400b3496ca98ac53f8a1bbbe5",
            "a232b322008e403d8910082d2fd5dc5a",
            "9fe945cc02a0440fb9ff7e0db3e64789",
            "1d5c6d2b71194fcf94f01962d4f12a24",
            "b94be73d0e7e4ce2a3eec02ed3958b6b",
            "c0d2151ca74d43a7953fe39892628443",
            "2ffdb108aa384929ab4ee6797ea6414c",
            "994237087d4a482491690602a2949b08",
            "a1f60a2a2e5e4bb2be6d92fb2ac77017",
            "2b4705abacfe48d3a06dbf521f6eef71",
            "03460077e1d84cb29309499ee835da73",
            "a7f7449dbfe64da180e5bcc929b31832",
            "2b4718c14fe245bea812b8eddadf172b",
            "3abca6bab1d7439792a4394d41bb59b9",
            "6e8bb1c6beb641af995465424811b9e7"
          ]
        }
      },
      "source": [
        "### Run this cell\n",
        "\n",
        "from torchvision import datasets, transforms\n",
        "\n",
        "# Define a transform to normalize the data\n",
        "transform = transforms.Compose([transforms.ToTensor(),\n",
        "                              transforms.Normalize((0.5,), (0.5,)),\n",
        "                              ])\n",
        "\n",
        "# Download and load the training data\n",
        "trainset = datasets.MNIST('~/.pytorch/MNIST_data/', download=True, train=True, transform=transform)\n",
        "trainloader = torch.utils.data.DataLoader(trainset, batch_size=64, shuffle=True)"
      ],
      "execution_count": 3,
      "outputs": [
        {
          "output_type": "stream",
          "text": [
            "Downloading http://yann.lecun.com/exdb/mnist/train-images-idx3-ubyte.gz\n",
            "Failed to download (trying next):\n",
            "HTTP Error 503: Service Unavailable\n",
            "\n",
            "Downloading https://ossci-datasets.s3.amazonaws.com/mnist/train-images-idx3-ubyte.gz\n",
            "Downloading https://ossci-datasets.s3.amazonaws.com/mnist/train-images-idx3-ubyte.gz to /root/.pytorch/MNIST_data/MNIST/raw/train-images-idx3-ubyte.gz\n"
          ],
          "name": "stdout"
        },
        {
          "output_type": "display_data",
          "data": {
            "application/vnd.jupyter.widget-view+json": {
              "model_id": "126956c6fa434a1e84bc22545a5ffc71",
              "version_minor": 0,
              "version_major": 2
            },
            "text/plain": [
              "HBox(children=(FloatProgress(value=0.0, max=9912422.0), HTML(value='')))"
            ]
          },
          "metadata": {
            "tags": []
          }
        },
        {
          "output_type": "stream",
          "text": [
            "\n",
            "Extracting /root/.pytorch/MNIST_data/MNIST/raw/train-images-idx3-ubyte.gz to /root/.pytorch/MNIST_data/MNIST/raw\n",
            "\n",
            "Downloading http://yann.lecun.com/exdb/mnist/train-labels-idx1-ubyte.gz\n",
            "Downloading http://yann.lecun.com/exdb/mnist/train-labels-idx1-ubyte.gz to /root/.pytorch/MNIST_data/MNIST/raw/train-labels-idx1-ubyte.gz\n"
          ],
          "name": "stdout"
        },
        {
          "output_type": "display_data",
          "data": {
            "application/vnd.jupyter.widget-view+json": {
              "model_id": "03773f80c542455c9e42f87e43967cca",
              "version_minor": 0,
              "version_major": 2
            },
            "text/plain": [
              "HBox(children=(FloatProgress(value=0.0, max=28881.0), HTML(value='')))"
            ]
          },
          "metadata": {
            "tags": []
          }
        },
        {
          "output_type": "stream",
          "text": [
            "\n",
            "Extracting /root/.pytorch/MNIST_data/MNIST/raw/train-labels-idx1-ubyte.gz to /root/.pytorch/MNIST_data/MNIST/raw\n",
            "\n",
            "Downloading http://yann.lecun.com/exdb/mnist/t10k-images-idx3-ubyte.gz\n",
            "Downloading http://yann.lecun.com/exdb/mnist/t10k-images-idx3-ubyte.gz to /root/.pytorch/MNIST_data/MNIST/raw/t10k-images-idx3-ubyte.gz\n",
            "Failed to download (trying next):\n",
            "HTTP Error 503: Service Unavailable\n",
            "\n",
            "Downloading https://ossci-datasets.s3.amazonaws.com/mnist/t10k-images-idx3-ubyte.gz\n",
            "Downloading https://ossci-datasets.s3.amazonaws.com/mnist/t10k-images-idx3-ubyte.gz to /root/.pytorch/MNIST_data/MNIST/raw/t10k-images-idx3-ubyte.gz\n"
          ],
          "name": "stdout"
        },
        {
          "output_type": "display_data",
          "data": {
            "application/vnd.jupyter.widget-view+json": {
              "model_id": "afa7cbf19f594e16b88efd5244a9fc92",
              "version_minor": 0,
              "version_major": 2
            },
            "text/plain": [
              "HBox(children=(FloatProgress(value=0.0, max=1648877.0), HTML(value='')))"
            ]
          },
          "metadata": {
            "tags": []
          }
        },
        {
          "output_type": "stream",
          "text": [
            "\n",
            "Extracting /root/.pytorch/MNIST_data/MNIST/raw/t10k-images-idx3-ubyte.gz to /root/.pytorch/MNIST_data/MNIST/raw\n",
            "\n",
            "Downloading http://yann.lecun.com/exdb/mnist/t10k-labels-idx1-ubyte.gz\n",
            "Downloading http://yann.lecun.com/exdb/mnist/t10k-labels-idx1-ubyte.gz to /root/.pytorch/MNIST_data/MNIST/raw/t10k-labels-idx1-ubyte.gz\n"
          ],
          "name": "stdout"
        },
        {
          "output_type": "display_data",
          "data": {
            "application/vnd.jupyter.widget-view+json": {
              "model_id": "994237087d4a482491690602a2949b08",
              "version_minor": 0,
              "version_major": 2
            },
            "text/plain": [
              "HBox(children=(FloatProgress(value=0.0, max=4542.0), HTML(value='')))"
            ]
          },
          "metadata": {
            "tags": []
          }
        },
        {
          "output_type": "stream",
          "text": [
            "\n",
            "Extracting /root/.pytorch/MNIST_data/MNIST/raw/t10k-labels-idx1-ubyte.gz to /root/.pytorch/MNIST_data/MNIST/raw\n",
            "\n"
          ],
          "name": "stdout"
        },
        {
          "output_type": "stream",
          "text": [
            "/usr/local/lib/python3.7/dist-packages/torchvision/datasets/mnist.py:498: UserWarning: The given NumPy array is not writeable, and PyTorch does not support non-writeable tensors. This means you can write to the underlying (supposedly non-writeable) NumPy array using the tensor. You may want to copy the array to protect its data or make it writeable before converting it to a tensor. This type of warning will be suppressed for the rest of this program. (Triggered internally at  /pytorch/torch/csrc/utils/tensor_numpy.cpp:180.)\n",
            "  return torch.from_numpy(parsed.astype(m[2], copy=False)).view(*s)\n"
          ],
          "name": "stderr"
        }
      ]
    },
    {
      "cell_type": "markdown",
      "metadata": {
        "id": "cESVOMSlHJgn"
      },
      "source": [
        "We have the training data loaded into `trainloader` and we make that an iterator with `iter(trainloader)`. Later, we'll use this to loop through the dataset for training, like\n",
        "\n",
        "```python\n",
        "for image, label in trainloader:\n",
        "    ## do things with images and labels\n",
        "```\n",
        "\n",
        "You'll notice I created the `trainloader` with a batch size of 64, and `shuffle=True`. The batch size is the number of images we get in one iteration from the data loader and pass through our network, often called a *batch*. And `shuffle=True` tells it to shuffle the dataset every time we start going through the data loader again. But here I'm just grabbing the first batch so we can check out the data. We can see below that `images` is just a tensor with size `(64, 1, 28, 28)`. So, 64 images per batch, 1 color channel, and 28x28 images."
      ]
    },
    {
      "cell_type": "code",
      "metadata": {
        "collapsed": true,
        "id": "bFp9F6k-HJgo",
        "outputId": "dbdaa09b-3e9d-4843-e148-d56272320571",
        "colab": {
          "base_uri": "https://localhost:8080/"
        }
      },
      "source": [
        "dataiter = iter(trainloader)\n",
        "images, labels = dataiter.next()\n",
        "print(type(images))\n",
        "print(images.shape)\n",
        "print(labels.shape)"
      ],
      "execution_count": 4,
      "outputs": [
        {
          "output_type": "stream",
          "text": [
            "<class 'torch.Tensor'>\n",
            "torch.Size([64, 1, 28, 28])\n",
            "torch.Size([64])\n"
          ],
          "name": "stdout"
        }
      ]
    },
    {
      "cell_type": "markdown",
      "metadata": {
        "id": "_iMOto0wHJgp"
      },
      "source": [
        "This is what one of the images looks like. "
      ]
    },
    {
      "cell_type": "markdown",
      "metadata": {
        "id": "PcOxuTeeHJgr"
      },
      "source": [
        "First, let's try to build a simple network for this dataset using weight matrices and matrix multiplications. Then, we'll see how to do it using PyTorch's `nn` module which provides a much more convenient and powerful method for defining network architectures.\n",
        "\n",
        "The networks you've seen so far are called *fully-connected* or *dense* networks. Each unit in one layer is connected to each unit in the next layer. In fully-connected networks, the input to each layer must be a one-dimensional vector (which can be stacked into a 2D tensor as a batch of multiple examples). However, our images are 28x28 2D tensors, so we need to convert them into 1D vectors. Thinking about sizes, we need to convert the batch of images with shape `(64, 1, 28, 28)` to a have a shape of `(64, 784)`, 784 is 28 times 28. This is typically called *flattening*, we flattened the 2D images into 1D vectors.\n",
        "\n",
        "Previously you built a network with one output unit. Here we need 10 output units, one for each digit. We want our network to predict the digit shown in an image, so what we'll do is calculate probabilities that the image is of any one digit or class. This ends up being a discrete probability distribution over the classes (digits) that tells us the most likely class for the image. That means we need 10 output units for the 10 classes (digits). We'll see how to convert the network output into a probability distribution next.\n",
        "\n",
        "> **Exercise:** Flatten the batch of images `images`. Then build a multi-layer network with 784 input units, 256 hidden units, and 10 output units using random tensors for the weights and biases. For now, use a sigmoid activation for the hidden layer. Leave the output layer without an activation, we'll add one that gives us a probability distribution next."
      ]
    },
    {
      "cell_type": "code",
      "metadata": {
        "collapsed": true,
        "id": "IHb9tL1SHJgq",
        "outputId": "2a73e587-cdac-47e9-b98f-8998f92d88e2",
        "colab": {
          "base_uri": "https://localhost:8080/",
          "height": 265
        }
      },
      "source": [
        "for i in range(len(images)):\n",
        "  plt.imshow(images[i].numpy().squeeze(), cmap='Greys_r');"
      ],
      "execution_count": 9,
      "outputs": [
        {
          "output_type": "display_data",
          "data": {
            "image/png": "[encoded data removed]",
            "text/plain": [
              "<Figure size 432x288 with 1 Axes>"
            ]
          },
          "metadata": {
            "tags": [],
            "image/png": {
              "width": 251,
              "height": 248
            },
            "needs_background": "light"
          }
        }
      ]
    },
    {
      "cell_type": "code",
      "metadata": {
        "collapsed": true,
        "id": "VMLhj4NcHJgr",
        "outputId": "fa809293-65c9-4a87-88d2-5eb80a30d6cd",
        "colab": {
          "base_uri": "https://localhost:8080/"
        }
      },
      "source": [
        "## Your solution\n",
        "n_input = 28*28     # Number of input units, must match number of input features\n",
        "n_hidden = 256                    # Number of hidden units \n",
        "n_output = 10                    # Number of output units\n",
        "\n",
        "inputs = images.view(images.shape[0], -1)\n",
        "print(inputs.shape)\n",
        "\n",
        "# Weights for inputs to hidden layer\n",
        "W1 = torch.randn(n_input, n_hidden)\n",
        "# Weights for hidden layer to output layer\n",
        "W2 = torch.randn(n_hidden, n_output)\n",
        "\n",
        "# and bias terms for hidden and output layers\n",
        "B1 = torch.randn((1, n_hidden))\n",
        "B2 = torch.randn((1, n_output))\n",
        "\n",
        "h = torch.sigmoid(torch.mm(inputs, W1)+B1)\n",
        "out = torch.mm(h, W2) + B2# output of your network, should have shape (64,10)\n",
        "\n",
        "print(out)\n"
      ],
      "execution_count": 20,
      "outputs": [
        {
          "output_type": "stream",
          "text": [
            "torch.Size([64, 784])\n",
            "tensor([[-5.0735e+00,  1.9155e+01, -2.2487e+00, -1.7548e+01, -3.0067e+01,\n",
            "         -1.9662e+01, -9.5717e+00,  3.7459e+00, -1.2280e+01,  4.8240e+00],\n",
            "        [-5.2618e+00,  1.6155e+01, -4.9412e-01, -2.0393e+01, -1.9943e+01,\n",
            "         -1.0550e+01, -2.0427e+00,  9.4269e+00, -4.2399e+00,  7.5836e+00],\n",
            "        [ 6.4481e+00,  5.8369e+00,  2.5643e+00, -2.1315e+01, -2.5347e+01,\n",
            "         -1.2880e+01,  1.6098e+00,  3.1382e+00, -1.3314e+01,  8.1674e+00],\n",
            "        [-9.9514e+00,  1.8720e+01,  5.2556e-01, -2.0762e+01, -1.5792e+01,\n",
            "         -1.7011e+01,  7.1557e-01,  9.2764e+00, -2.0585e+00,  1.4812e+01],\n",
            "        [-4.1670e+00,  1.8175e+01,  3.3384e+00, -1.8845e+01, -2.9488e+01,\n",
            "         -6.2137e+00, -7.4452e+00,  8.3102e+00, -5.6713e+00,  5.7222e+00],\n",
            "        [ 2.0505e-01,  1.9334e+01,  3.0562e+00, -2.2355e+01, -2.7580e+01,\n",
            "         -1.0860e+01, -4.8123e+00,  1.1323e+01, -3.7250e+00,  1.1433e+01],\n",
            "        [-4.7073e+00,  2.6033e+01,  9.0930e+00, -2.0940e+01, -2.4688e+01,\n",
            "         -7.8867e+00,  2.7391e+00,  1.7144e+01, -7.4895e+00,  1.7488e+01],\n",
            "        [-4.6596e+00,  6.4166e+00, -2.2190e+00, -1.4741e+01, -2.6804e+01,\n",
            "         -1.3796e+01,  9.6928e-03,  4.3140e+00, -2.1064e+00,  5.2908e+00],\n",
            "        [-4.3579e+00,  1.9962e+01,  4.1264e+00, -1.1921e+01, -1.4939e+01,\n",
            "         -2.1533e+01, -1.1828e+00,  2.0819e+01, -8.5898e+00,  6.9864e+00],\n",
            "        [-3.7086e-01,  1.5337e+01, -7.8859e-01, -2.4553e+01, -1.6132e+01,\n",
            "         -1.1854e+01, -9.2994e+00,  1.4066e+01, -4.9783e+00, -3.1155e+00],\n",
            "        [ 4.5807e+00,  2.7484e+01, -3.5138e+00, -1.2863e+01, -2.7254e+01,\n",
            "         -1.5921e+01, -7.1780e-01,  4.5324e+00, -1.6209e+00,  1.1639e+01],\n",
            "        [ 9.0012e-01,  1.4329e+01,  9.8237e+00, -1.3489e+01, -2.3761e+01,\n",
            "         -1.7871e+01, -3.9336e+00,  1.1696e+01,  2.1950e+00,  4.5547e+00],\n",
            "        [-2.1305e-01,  2.1625e+01,  4.7004e+00, -8.9001e+00, -2.2894e+01,\n",
            "         -1.2941e+01,  8.3826e-01,  8.6517e+00, -2.3698e+00, -3.2089e+00],\n",
            "        [-1.8044e+00,  1.7886e+01, -6.5016e+00, -4.8515e+00, -2.7824e+01,\n",
            "         -1.6148e+01, -2.2513e+00,  2.1103e+00, -2.5612e+00,  6.7691e+00],\n",
            "        [ 2.7618e+00,  1.6598e+01,  5.2098e+00, -1.2057e+01, -2.5492e+01,\n",
            "         -1.4276e+01, -2.1526e-02,  8.8663e+00,  4.4543e+00,  5.1862e+00],\n",
            "        [-1.8619e+00,  1.5347e+01,  1.3980e+01, -1.7976e+01, -2.5519e+01,\n",
            "         -8.7113e+00, -5.6743e+00,  8.0513e+00,  7.2075e+00,  3.3680e+00],\n",
            "        [-5.2699e+00,  1.7964e+01, -3.5906e+00, -1.5724e+01, -2.6144e+01,\n",
            "         -1.9713e+01, -1.1488e+00,  2.6203e+00, -6.5584e+00,  2.1314e+00],\n",
            "        [-6.2285e+00,  1.8187e+01, -1.1391e+01, -1.9391e+01, -2.6401e+01,\n",
            "         -7.9100e+00,  3.9960e+00, -5.6145e+00, -1.5336e+01,  1.2029e+01],\n",
            "        [-3.6861e+00,  2.1468e+01,  5.7424e+00, -1.9488e+01, -2.2182e+01,\n",
            "         -1.1633e+01, -4.4500e+00,  2.0078e+01,  3.0687e+00,  8.7527e+00],\n",
            "        [-7.3351e-01,  1.8175e+01,  6.7706e+00, -1.4457e+01, -2.3529e+01,\n",
            "         -1.6487e+01, -5.7058e+00,  1.3501e+01,  8.7027e+00,  5.2416e+00],\n",
            "        [-3.1532e+00,  8.1887e+00,  6.1752e+00, -2.2312e+01, -2.2629e+01,\n",
            "         -1.1849e+01, -2.9905e+00,  5.4344e+00, -2.2805e+00,  1.0115e+01],\n",
            "        [-3.6110e-01,  2.4975e+01,  7.8034e-01, -1.1124e+01, -2.9642e+01,\n",
            "         -2.1280e+01, -7.3571e+00,  7.5330e+00, -1.2293e+00,  2.6992e+00],\n",
            "        [ 1.1225e+00,  1.1150e+01,  9.2957e+00, -1.6648e+01, -2.2780e+01,\n",
            "         -1.1287e+01,  7.5106e-01,  1.0767e+01, -4.1165e+00,  9.4394e+00],\n",
            "        [-1.0577e+01,  1.5296e+01, -5.4847e+00, -1.8218e+01, -2.7264e+01,\n",
            "         -1.4262e+01, -7.6796e+00, -4.8938e-01, -1.1594e+01,  9.0391e-01],\n",
            "        [-4.0356e+00,  1.7705e+01,  3.7276e+00, -1.8183e+01, -1.9440e+01,\n",
            "         -1.3497e+01, -3.5852e+00,  1.3936e+01, -8.3729e+00,  5.7739e-01],\n",
            "        [ 5.8824e+00,  2.7452e+01,  7.8913e+00, -1.2822e+01, -1.0214e+01,\n",
            "         -1.2146e+01, -1.5144e+01,  1.4669e+01,  3.1519e+00,  1.0668e+01],\n",
            "        [ 7.2157e-01,  1.0741e+01, -4.0095e+00, -2.5402e+01, -1.1500e+01,\n",
            "         -1.0742e+01, -6.8875e+00,  2.6745e+00,  6.7147e-01,  6.5730e-02],\n",
            "        [ 5.7729e-01,  2.1776e+01,  7.9024e+00, -2.1161e+01, -2.3549e+01,\n",
            "         -1.2562e+01,  1.0497e-01,  1.4509e+01, -9.6682e-01,  2.1442e+00],\n",
            "        [ 1.9183e+00,  1.6737e+01, -4.1343e+00, -1.6991e+01, -2.7968e+01,\n",
            "         -1.2478e+01, -3.0952e+00, -5.2613e-01, -7.0929e+00,  3.4899e+00],\n",
            "        [-3.9071e+00,  1.4199e+01,  9.2458e-01, -1.7336e+01, -2.4752e+01,\n",
            "         -1.2662e+01, -3.1943e-01,  7.9695e+00, -1.2777e+01,  7.3515e+00],\n",
            "        [-1.7068e+00,  2.0768e+01,  6.9143e+00, -1.0762e+01, -2.8477e+01,\n",
            "         -5.6381e+00, -3.8119e+00,  1.5587e+01,  6.2204e+00,  2.4510e+00],\n",
            "        [-1.5100e+01,  2.6603e+01, -3.2561e+00, -1.3792e+01, -2.7641e+01,\n",
            "         -1.5574e+01,  9.1434e-01,  1.6399e+01, -6.8401e+00,  5.4236e+00],\n",
            "        [-5.5846e+00,  8.2531e+00,  5.7930e+00, -1.7490e+01, -3.0229e+01,\n",
            "         -1.2476e+01, -1.9738e+00,  8.5756e+00,  3.0381e+00,  1.6251e+01],\n",
            "        [-1.2748e+01,  2.0363e+01, -1.0373e+01, -1.9511e+01, -3.1080e+01,\n",
            "         -1.9627e+01,  5.8928e+00,  1.1381e+01, -1.1210e+01,  9.4736e+00],\n",
            "        [ 5.3706e+00,  1.9320e+01,  8.4647e+00, -1.6562e+01, -2.4912e+01,\n",
            "         -1.3927e+01, -6.7051e+00,  1.3707e+01,  1.2557e+01,  6.5730e+00],\n",
            "        [-9.6054e+00,  1.6802e+01,  4.5504e+00, -1.1109e+01, -1.9899e+01,\n",
            "         -1.1694e+01,  3.6835e+00,  9.3232e+00, -8.9675e+00,  6.7462e+00],\n",
            "        [-5.3946e+00,  9.2397e+00,  8.8643e+00, -1.0854e+01, -1.6827e+01,\n",
            "         -1.7004e+01, -1.0830e+01,  1.1680e+01,  4.2886e+00,  7.7690e+00],\n",
            "        [ 3.7470e+00,  1.9870e+01,  8.4535e+00, -1.7764e+01, -1.7803e+01,\n",
            "         -1.1092e+01, -5.3907e+00,  1.8048e+01,  3.0696e+00,  3.2879e+00],\n",
            "        [ 3.9580e+00,  4.2386e+00, -1.2525e+00, -1.6979e+01, -2.5049e+01,\n",
            "         -1.8223e+01, -1.1798e+00,  4.8866e+00, -5.2474e+00,  5.9861e+00],\n",
            "        [-7.1168e+00,  9.4191e+00,  4.7662e+00, -1.8042e+01, -2.5347e+01,\n",
            "         -1.1058e+01,  6.2490e-01,  1.4129e+01,  1.4001e+00,  2.1802e+00],\n",
            "        [-5.9479e+00,  1.0640e+01,  3.0387e+00, -1.3181e+01, -2.8677e+01,\n",
            "         -1.6494e+01, -9.4033e+00,  1.6940e+00, -8.0230e+00,  5.3678e-01],\n",
            "        [-5.8552e+00,  5.3529e+00,  6.5523e+00, -9.2150e+00, -2.2198e+01,\n",
            "         -1.4674e+01, -2.1282e+00,  4.5058e+00,  7.0938e+00,  1.5030e+01],\n",
            "        [-2.2084e+00,  1.0305e+01,  1.0169e+01, -1.1731e+01, -2.2805e+01,\n",
            "         -1.8558e+01, -3.9301e+00,  1.2845e+01, -1.8620e+00,  1.0431e+01],\n",
            "        [-1.9547e-01,  1.5174e+01, -1.4385e+00, -1.5615e+01, -2.2123e+01,\n",
            "         -4.5349e+00, -7.5282e+00,  1.3034e+01,  4.2533e-01,  4.6795e+00],\n",
            "        [-9.9878e+00,  1.7164e+01,  3.3131e+00, -1.6907e+01, -2.4065e+01,\n",
            "         -1.9033e+01, -8.4414e+00,  8.5627e+00,  2.1556e+00,  1.4036e+00],\n",
            "        [-4.6641e+00,  9.2315e+00,  3.0128e-01, -2.1202e+01, -1.0838e+01,\n",
            "         -9.4280e+00, -6.6115e-01,  1.1154e+01,  6.1399e+00,  4.4316e+00],\n",
            "        [-2.4201e+00,  1.2805e+01, -1.4243e+00, -1.5927e+01, -3.4222e+01,\n",
            "         -2.1756e+01,  4.2122e+00,  6.9514e+00, -6.3175e+00,  1.0144e+01],\n",
            "        [ 3.6421e+00,  1.5447e+01, -7.5794e-01, -1.7288e+01, -3.0847e+01,\n",
            "         -6.4886e+00,  9.1238e-01,  3.9808e+00, -6.4587e+00,  2.5698e-01],\n",
            "        [ 5.5319e-01,  1.9030e+01,  5.6022e-01, -1.5289e+01, -2.1289e+01,\n",
            "         -9.4845e+00, -2.0640e+00,  1.2331e+01, -5.8817e+00,  8.3184e+00],\n",
            "        [-9.9267e-01,  1.9330e+01,  1.0862e+00, -2.0767e+01, -2.7365e+01,\n",
            "         -1.5319e+01,  2.8946e+00,  4.7459e+00, -5.0583e+00,  1.0582e+01],\n",
            "        [ 8.7074e+00,  1.6036e+01, -1.6053e+01, -8.1739e+00, -2.4569e+01,\n",
            "         -1.6791e+01, -1.5837e+00,  1.2392e+01, -4.0617e+00,  9.3185e-01],\n",
            "        [-3.0085e+00,  5.7068e+00,  1.3895e+01, -2.0048e+01, -2.7921e+01,\n",
            "         -1.1120e+01,  1.7403e+00,  1.1808e+01, -6.0242e+00,  8.0780e+00],\n",
            "        [ 2.5303e+00,  1.3490e+01,  9.8838e+00, -9.1526e+00, -1.4642e+01,\n",
            "         -1.2343e+01, -3.1909e+00,  1.2152e+01,  1.6028e+01,  8.2713e+00],\n",
            "        [ 2.3168e+00,  1.7763e+01, -7.1996e+00, -2.7825e+01, -2.7244e+01,\n",
            "         -1.0293e+01, -1.7444e+00,  1.2782e+01, -1.0118e+00,  6.5227e+00],\n",
            "        [ 2.0840e+00,  2.1948e+01,  3.6557e+00, -1.4153e+01, -2.6699e+01,\n",
            "         -9.6021e+00, -2.9141e+00,  8.1494e+00,  7.9668e+00,  7.4656e+00],\n",
            "        [-1.4853e+00,  1.5671e+01, -3.2404e+00, -2.6317e+01, -1.6699e+01,\n",
            "         -1.0595e+01, -8.8528e-01,  7.6129e+00,  4.8484e+00,  5.1442e+00],\n",
            "        [ 6.5382e+00,  2.0759e+01,  5.9409e+00, -1.4752e+01, -3.2874e+01,\n",
            "         -1.3862e+01, -5.2291e+00,  1.7114e+01, -3.9271e+00,  1.1450e+01],\n",
            "        [-3.0934e+00,  1.5527e+01,  9.6975e+00, -1.2381e+01, -1.8620e+01,\n",
            "         -8.5272e+00, -1.9974e+00,  1.5003e+01,  3.8859e+00,  8.1338e+00],\n",
            "        [-8.4342e+00,  1.9117e+01,  9.7746e+00, -7.2702e+00, -3.2895e+01,\n",
            "         -7.5826e+00, -1.0407e+01,  1.4123e+01,  4.1262e+00,  4.8206e+00],\n",
            "        [-2.9024e+00,  1.0632e+01,  7.7821e+00, -2.4393e+01, -2.6556e+01,\n",
            "         -1.7427e+01,  1.3225e+00,  6.8922e+00, -1.2205e+01,  9.1457e+00],\n",
            "        [ 4.2766e+00,  1.8404e+01, -8.8844e-01, -1.5857e+01, -2.4072e+01,\n",
            "         -1.6401e+01,  3.1166e+00,  1.1000e+01,  7.1334e-01,  7.7887e+00],\n",
            "        [-4.7530e+00,  1.3894e+01, -3.7731e-01, -1.6247e+01, -2.3625e+01,\n",
            "         -1.1459e+01,  5.8701e-01,  4.7907e+00, -3.9829e+00,  8.5822e+00],\n",
            "        [-1.6969e+00,  1.4966e+01,  3.1343e+00, -1.4437e+01, -2.9213e+01,\n",
            "         -1.0196e+01, -3.7611e+00,  1.1299e+01,  6.9232e+00,  1.4421e+01],\n",
            "        [-4.4880e+00,  1.0910e+01, -2.3423e+00, -9.9274e+00, -2.1427e+01,\n",
            "         -2.2272e+01, -1.7814e+00,  5.3794e+00, -1.1255e+01,  9.2371e+00]])\n"
          ],
          "name": "stdout"
        }
      ]
    },
    {
      "cell_type": "markdown",
      "metadata": {
        "id": "36c-1CAMHJgs"
      },
      "source": [
        "Now we have 10 outputs for our network. We want to pass in an image to our network and get out a probability distribution over the classes that tells us the likely class(es) the image belongs to. Something that looks like this:\n",
        "<img src='https://github.com/udacity/deep-learning-v2-pytorch/blob/master/intro-to-pytorch/assets/image_distribution.png?raw=1' width=500px>\n",
        "\n",
        "Here we see that the probability for each class is roughly the same. This is representing an untrained network, it hasn't seen any data yet so it just returns a uniform distribution with equal probabilities for each class.\n",
        "\n",
        "To calculate this probability distribution, we often use the [**softmax** function](https://en.wikipedia.org/wiki/Softmax_function). Mathematically this looks like\n",
        "\n",
        "$$\n",
        "\\Large \\sigma(x_i) = \\cfrac{e^{x_i}}{\\sum_k^K{e^{x_k}}}\n",
        "$$\n",
        "\n",
        "What this does is squish each input $x_i$ between 0 and 1 and normalizes the values to give you a proper probability distribution where the probabilites sum up to one.\n",
        "\n",
        "> **Exercise:** Implement a function `softmax` that performs the softmax calculation and returns probability distributions for each example in the batch. Note that you'll need to pay attention to the shapes when doing this. If you have a tensor `a` with shape `(64, 10)` and a tensor `b` with shape `(64,)`, doing `a/b` will give you an error because PyTorch will try to do the division across the columns (called broadcasting) but you'll get a size mismatch. The way to think about this is for each of the 64 examples, you only want to divide by one value, the sum in the denominator. So you need `b` to have a shape of `(64, 1)`. This way PyTorch will divide the 10 values in each row of `a` by the one value in each row of `b`. Pay attention to how you take the sum as well. You'll need to define the `dim` keyword in `torch.sum`. Setting `dim=0` takes the sum across the rows while `dim=1` takes the sum across the columns."
      ]
    },
    {
      "cell_type": "code",
      "metadata": {
        "collapsed": true,
        "id": "rjgCKWENHJgs",
        "outputId": "f801ddb2-4c3d-4edb-d1f3-a4d8c96a6274",
        "colab": {
          "base_uri": "https://localhost:8080/"
        }
      },
      "source": [
        "def softmax(x):\n",
        "    ## TODO: Implement the softmax function here\n",
        "    nom = torch.exp(x)\n",
        "    denom = torch.sum(torch.exp(x), dim=1).reshape(nom.shape[0], 1)\n",
        "    return nom / denom\n",
        "\n",
        "# Here, out should be the output of the network in the previous excercise with shape (64,10)\n",
        "probabilities = softmax(out)\n",
        "print(probabilities)\n",
        "\n",
        "# Does it have the right shape? Should be (64, 10)\n",
        "print(probabilities.shape)\n",
        "# Does it sum to 1?\n",
        "print(probabilities.sum(dim=1))"
      ],
      "execution_count": 27,
      "outputs": [
        {
          "output_type": "stream",
          "text": [
            "tensor([[3.0041e-11, 1.0000e+00, 5.0638e-10, 1.1480e-16, 4.1978e-22, 1.3862e-17,\n",
            "         3.3432e-13, 2.0319e-07, 2.2275e-14, 5.9721e-07],\n",
            "        [4.9921e-10, 9.9862e-01, 5.8729e-08, 1.3389e-16, 2.1001e-16, 2.5226e-12,\n",
            "         1.2483e-08, 1.1953e-03, 1.3870e-09, 1.8923e-04],\n",
            "        [1.3911e-01, 7.5494e-02, 2.8620e-03, 1.2190e-13, 2.1621e-15, 5.6118e-10,\n",
            "         1.1018e-03, 5.0801e-03, 3.6366e-10, 7.7635e-01],\n",
            "        [3.4644e-13, 9.8022e-01, 1.2295e-08, 6.9908e-18, 1.0073e-15, 2.9759e-16,\n",
            "         1.4868e-08, 7.7653e-05, 9.2788e-10, 1.9700e-02],\n",
            "        [1.9805e-10, 9.9994e-01, 3.6001e-07, 8.3570e-17, 1.9958e-21, 2.5580e-11,\n",
            "         7.4657e-12, 5.1948e-05, 4.4003e-11, 3.9046e-06],\n",
            "        [4.9191e-09, 9.9930e-01, 8.5142e-08, 7.8398e-19, 4.2149e-21, 7.6976e-14,\n",
            "         3.2575e-11, 3.3142e-04, 9.6627e-11, 3.6975e-04],\n",
            "        [4.4607e-14, 9.9967e-01, 4.3934e-08, 3.9771e-21, 9.3734e-23, 1.8561e-15,\n",
            "         7.6442e-11, 1.3782e-04, 2.7614e-15, 1.9441e-04],\n",
            "        [1.0684e-05, 6.9034e-01, 1.2265e-04, 4.4694e-10, 2.5798e-15, 1.1504e-09,\n",
            "         1.1391e-03, 8.4319e-02, 1.3727e-04, 2.2393e-01],\n",
            "        [8.1717e-12, 2.9807e-01, 3.9535e-08, 4.2448e-15, 2.0755e-16, 2.8405e-19,\n",
            "         1.9554e-10, 7.0193e-01, 1.1869e-13, 6.9035e-07],\n",
            "        [1.1768e-07, 7.8101e-01, 7.7494e-08, 3.7011e-18, 1.6821e-14, 1.2119e-12,\n",
            "         1.5598e-11, 2.1899e-01, 1.1740e-09, 7.5631e-09],\n",
            "        [1.1309e-10, 1.0000e+00, 3.4513e-14, 3.0050e-18, 1.6899e-24, 1.4118e-19,\n",
            "         5.6530e-13, 1.0775e-10, 2.2913e-13, 1.3139e-07],\n",
            "        [1.3591e-06, 9.2338e-01, 1.0203e-02, 7.6588e-13, 2.6499e-17, 9.5777e-15,\n",
            "         1.0814e-08, 6.6358e-02, 4.9616e-06, 5.2530e-05],\n",
            "        [3.2799e-10, 1.0000e+00, 4.4643e-08, 5.5349e-14, 4.6287e-20, 9.7317e-16,\n",
            "         9.3852e-10, 2.3216e-06, 3.7950e-11, 1.6397e-11],\n",
            "        [2.8087e-09, 9.9998e-01, 2.5617e-11, 1.3340e-10, 1.4073e-20, 1.6560e-15,\n",
            "         1.7965e-09, 1.4081e-07, 1.3178e-09, 1.4857e-05],\n",
            "        [9.7858e-07, 9.9953e-01, 1.1318e-05, 3.5869e-13, 5.2502e-19, 3.9025e-14,\n",
            "         6.0510e-08, 4.3831e-04, 5.3167e-06, 1.1054e-05],\n",
            "        [2.6747e-08, 7.9633e-01, 2.0289e-01, 2.6844e-15, 1.4224e-18, 2.8355e-11,\n",
            "         5.9099e-10, 5.4016e-04, 2.3229e-04, 4.9955e-06],\n",
            "        [8.1210e-11, 1.0000e+00, 4.3544e-10, 2.3411e-15, 6.9822e-20, 4.3358e-17,\n",
            "         5.0049e-09, 2.1692e-07, 2.2387e-11, 1.3303e-07],\n",
            "        [2.4869e-11, 9.9789e-01, 1.4249e-13, 4.7777e-17, 4.3134e-20, 4.6283e-12,\n",
            "         6.8568e-07, 4.5956e-11, 2.7556e-15, 2.1115e-03],\n",
            "        [9.5322e-12, 8.0046e-01, 1.1857e-07, 1.3075e-18, 8.8408e-20, 3.3723e-15,\n",
            "         4.4406e-12, 1.9954e-01, 8.1806e-09, 2.4060e-06],\n",
            "        [6.0798e-09, 9.9067e-01, 1.1038e-05, 6.6690e-15, 7.6572e-19, 8.7584e-16,\n",
            "         4.2115e-11, 9.2445e-03, 7.6204e-05, 2.3925e-06],\n",
            "        [1.4719e-06, 1.2405e-01, 1.6562e-02, 7.0386e-15, 5.1249e-15, 2.4634e-10,\n",
            "         1.7319e-06, 7.8962e-03, 3.5226e-06, 8.5148e-01],\n",
            "        [9.9213e-12, 1.0000e+00, 3.1066e-11, 2.1008e-16, 1.9063e-24, 8.1598e-21,\n",
            "         9.0833e-15, 2.6603e-08, 4.1639e-12, 2.1167e-10],\n",
            "        [2.1874e-05, 4.9524e-01, 7.7534e-02, 4.1927e-13, 9.1076e-16, 8.9196e-11,\n",
            "         1.5087e-05, 3.3768e-01, 1.1605e-07, 8.9513e-02],\n",
            "        [5.8026e-12, 1.0000e+00, 9.4411e-10, 2.7862e-15, 3.2846e-19, 1.4553e-13,\n",
            "         1.0514e-10, 1.3946e-07, 2.0978e-12, 5.6176e-07],\n",
            "        [3.5344e-10, 9.7743e-01, 8.3143e-07, 2.5365e-16, 7.2173e-17, 2.7502e-14,\n",
            "         5.5452e-10, 2.2567e-02, 4.6202e-12, 3.5621e-08],\n",
            "        [4.2899e-10, 1.0000e+00, 3.1984e-09, 3.2295e-18, 4.3833e-17, 6.3491e-18,\n",
            "         3.1689e-19, 2.8090e-06, 2.7967e-11, 5.1404e-08],\n",
            "        [4.4528e-05, 9.9958e-01, 3.9259e-07, 2.0099e-16, 2.1932e-10, 4.6803e-10,\n",
            "         2.2083e-08, 3.1388e-04, 4.2352e-05, 2.3110e-05],\n",
            "        [6.2114e-10, 9.9930e-01, 9.4290e-07, 2.2504e-19, 2.0664e-20, 1.2209e-15,\n",
            "         3.8732e-10, 6.9747e-04, 1.3262e-10, 2.9764e-09],\n",
            "        [3.6671e-07, 1.0000e+00, 8.6243e-10, 2.2506e-15, 3.8458e-20, 2.0516e-13,\n",
            "         2.4377e-09, 3.1821e-08, 4.4751e-11, 1.7654e-06],\n",
            "        [1.3660e-08, 9.9697e-01, 1.7133e-06, 2.0111e-14, 1.2099e-17, 2.1550e-12,\n",
            "         4.9382e-07, 1.9651e-03, 1.9199e-12, 1.0593e-03],\n",
            "        [1.7254e-10, 9.9441e-01, 9.5710e-07, 2.0146e-14, 4.0812e-22, 3.3847e-12,\n",
            "         2.1021e-11, 5.5933e-03, 4.7821e-07, 1.1030e-08],\n",
            "        [7.7434e-19, 9.9996e-01, 1.0776e-13, 2.8633e-18, 2.7674e-24, 4.8164e-19,\n",
            "         6.9769e-12, 3.7024e-05, 2.9918e-15, 6.3387e-10],\n",
            "        [3.2837e-10, 3.3573e-04, 2.8681e-05, 2.2189e-15, 6.5076e-21, 3.3382e-13,\n",
            "         1.2148e-08, 4.6351e-04, 1.8246e-06, 9.9917e-01],\n",
            "        [4.1706e-15, 9.9986e-01, 4.4837e-14, 4.8191e-18, 4.5565e-23, 4.2920e-18,\n",
            "         5.1970e-07, 1.2566e-04, 1.9417e-14, 1.8659e-05],\n",
            "        [8.7051e-07, 9.9519e-01, 1.9210e-05, 2.5968e-16, 6.1408e-20, 3.6207e-15,\n",
            "         4.9589e-12, 3.6334e-03, 1.1505e-03, 2.8972e-06],\n",
            "        [3.3988e-12, 9.9939e-01, 4.7763e-06, 7.5562e-13, 1.1506e-16, 4.2097e-13,\n",
            "         2.0072e-06, 5.6481e-04, 6.4322e-12, 4.2927e-05],\n",
            "        [3.2915e-08, 7.4642e-02, 5.1280e-02, 1.4011e-10, 3.5685e-13, 2.9894e-13,\n",
            "         1.4344e-10, 8.5640e-01, 5.2817e-04, 1.7150e-02],\n",
            "        [8.5617e-08, 8.6082e-01, 9.4752e-06, 3.8943e-17, 3.7441e-17, 3.0768e-14,\n",
            "         9.2074e-12, 1.3917e-01, 4.3489e-08, 5.4097e-08],\n",
            "        [8.0216e-02, 1.0620e-01, 4.3791e-04, 6.4757e-11, 2.0254e-14, 1.8674e-11,\n",
            "         4.7095e-04, 2.0302e-01, 8.0614e-06, 6.0964e-01],\n",
            "        [5.8783e-10, 8.9270e-03, 8.5103e-05, 1.0580e-14, 7.1126e-18, 1.1422e-11,\n",
            "         1.3534e-06, 9.9098e-01, 2.9382e-06, 6.4105e-06],\n",
            "        [6.2487e-08, 9.9933e-01, 4.9961e-04, 4.5111e-11, 8.4048e-18, 1.6429e-12,\n",
            "         1.9730e-09, 1.3020e-04, 7.8444e-09, 4.0930e-05],\n",
            "        [8.5029e-10, 6.2684e-05, 2.0800e-04, 2.9541e-11, 6.7931e-17, 1.2575e-13,\n",
            "         3.5332e-08, 2.6869e-05, 3.5746e-04, 9.9935e-01],\n",
            "        [2.3440e-07, 6.3724e-02, 5.5662e-02, 1.7151e-11, 2.6602e-16, 1.8593e-14,\n",
            "         4.1904e-08, 8.0829e-01, 3.3143e-07, 7.2323e-02],\n",
            "        [1.8913e-07, 8.9476e-01, 5.4564e-08, 3.8032e-14, 5.6748e-17, 2.4669e-09,\n",
            "         1.2365e-10, 1.0522e-01, 3.5185e-07, 2.4769e-05],\n",
            "        [1.6149e-12, 9.9981e-01, 9.6534e-07, 1.5969e-15, 1.2437e-18, 1.9058e-16,\n",
            "         7.5813e-12, 1.8388e-04, 3.0336e-07, 1.4301e-07],\n",
            "        [1.1701e-07, 1.2676e-01, 1.6774e-05, 7.6911e-15, 2.4373e-10, 9.9829e-10,\n",
            "         6.4073e-06, 8.6641e-01, 5.7589e-03, 1.0434e-03],\n",
            "        [2.2766e-07, 9.3202e-01, 6.1626e-07, 3.0989e-13, 3.5165e-21, 9.1175e-16,\n",
            "         1.7284e-04, 2.6747e-03, 4.6205e-09, 6.5127e-02],\n",
            "        [7.4696e-06, 9.9998e-01, 9.1706e-08, 6.0730e-15, 7.8528e-21, 2.9757e-10,\n",
            "         4.8732e-07, 1.0481e-05, 3.0661e-10, 2.5303e-07],\n",
            "        [9.4381e-09, 9.9875e-01, 9.5047e-09, 1.2434e-15, 3.0832e-18, 4.1266e-13,\n",
            "         6.8907e-10, 1.2298e-03, 1.5145e-11, 2.2247e-05],\n",
            "        [1.4929e-09, 9.9984e-01, 1.1936e-08, 3.8546e-18, 5.2574e-21, 8.9598e-16,\n",
            "         7.2821e-08, 4.6373e-07, 2.5606e-11, 1.5886e-04],\n",
            "        [6.3939e-04, 9.7389e-01, 1.1280e-14, 2.9809e-11, 2.2588e-18, 5.3950e-15,\n",
            "         2.1698e-08, 2.5472e-02, 1.8208e-09, 2.6848e-07],\n",
            "        [4.0453e-08, 2.4658e-04, 8.8704e-01, 1.6096e-15, 6.1305e-19, 1.2138e-11,\n",
            "         4.6701e-06, 1.1007e-01, 1.9827e-09, 2.6408e-03],\n",
            "        [1.2466e-06, 7.1702e-02, 1.9469e-03, 1.0518e-11, 4.3423e-14, 4.3308e-13,\n",
            "         4.0837e-09, 1.8816e-02, 9.0714e-01, 3.8818e-04],\n",
            "        [1.9443e-07, 9.9317e-01, 1.4317e-11, 1.5791e-20, 2.8231e-20, 6.4948e-13,\n",
            "         3.3496e-09, 6.8176e-03, 6.9687e-09, 1.3043e-05],\n",
            "        [2.3626e-09, 1.0000e+00, 1.1375e-08, 2.0976e-16, 7.4640e-22, 1.9869e-14,\n",
            "         1.5948e-11, 1.0175e-06, 8.4766e-07, 5.1351e-07],\n",
            "        [3.5389e-08, 9.9964e-01, 6.1183e-09, 5.8184e-19, 8.7428e-15, 3.9121e-12,\n",
            "         6.4486e-08, 3.1635e-04, 1.9933e-05, 2.6793e-05],\n",
            "        [6.5004e-07, 9.7444e-01, 3.5769e-07, 3.6878e-16, 4.9690e-24, 8.9821e-16,\n",
            "         5.0403e-12, 2.5469e-02, 1.8531e-11, 8.8357e-05],\n",
            "        [5.1307e-09, 6.2669e-01, 1.8417e-03, 4.7485e-13, 9.2699e-16, 2.2403e-11,\n",
            "         1.5352e-08, 3.7108e-01, 5.5114e-06, 3.8556e-04],\n",
            "        [1.0761e-12, 9.9318e-01, 8.7066e-05, 3.4464e-12, 2.5626e-23, 2.5217e-12,\n",
            "         1.4971e-13, 6.7344e-03, 3.0674e-07, 6.1424e-07],\n",
            "        [1.0131e-06, 7.6449e-01, 4.4249e-02, 4.7012e-16, 5.4076e-17, 4.9876e-13,\n",
            "         6.9267e-05, 1.8172e-02, 9.2431e-11, 1.7302e-01],\n",
            "        [7.3171e-07, 9.9937e-01, 4.1802e-09, 1.3190e-15, 3.5691e-19, 7.6598e-16,\n",
            "         2.2938e-07, 6.0836e-04, 2.0742e-08, 2.4525e-05],\n",
            "        [7.9338e-09, 9.9498e-01, 6.3072e-07, 8.0857e-14, 5.0526e-17, 9.7035e-12,\n",
            "         1.6544e-06, 1.1074e-04, 1.7137e-08, 4.9081e-03],\n",
            "        [3.6123e-08, 6.2260e-01, 4.5283e-06, 1.0588e-13, 4.0521e-20, 7.3553e-12,\n",
            "         4.5849e-09, 1.5916e-02, 2.0018e-04, 3.6128e-01],\n",
            "        [1.7246e-07, 8.3912e-01, 1.4741e-06, 7.4881e-10, 7.5864e-15, 3.2586e-15,\n",
            "         2.5830e-06, 3.3268e-03, 1.9853e-10, 1.5755e-01]])\n",
            "torch.Size([64, 10])\n",
            "tensor([1.0000, 1.0000, 1.0000, 1.0000, 1.0000, 1.0000, 1.0000, 1.0000, 1.0000,\n",
            "        1.0000, 1.0000, 1.0000, 1.0000, 1.0000, 1.0000, 1.0000, 1.0000, 1.0000,\n",
            "        1.0000, 1.0000, 1.0000, 1.0000, 1.0000, 1.0000, 1.0000, 1.0000, 1.0000,\n",
            "        1.0000, 1.0000, 1.0000, 1.0000, 1.0000, 1.0000, 1.0000, 1.0000, 1.0000,\n",
            "        1.0000, 1.0000, 1.0000, 1.0000, 1.0000, 1.0000, 1.0000, 1.0000, 1.0000,\n",
            "        1.0000, 1.0000, 1.0000, 1.0000, 1.0000, 1.0000, 1.0000, 1.0000, 1.0000,\n",
            "        1.0000, 1.0000, 1.0000, 1.0000, 1.0000, 1.0000, 1.0000, 1.0000, 1.0000,\n",
            "        1.0000])\n"
          ],
          "name": "stdout"
        }
      ]
    },
    {
      "cell_type": "markdown",
      "metadata": {
        "id": "HpsE_LxHHJgt"
      },
      "source": [
        "## Building networks with PyTorch\n",
        "\n",
        "PyTorch provides a module `nn` that makes building networks much simpler. Here I'll show you how to build the same one as above with 784 inputs, 256 hidden units, 10 output units and a softmax output."
      ]
    },
    {
      "cell_type": "code",
      "metadata": {
        "collapsed": true,
        "id": "HWC7UVEoHJgt"
      },
      "source": [
        "from torch import nn"
      ],
      "execution_count": 28,
      "outputs": []
    },
    {
      "cell_type": "code",
      "metadata": {
        "collapsed": true,
        "id": "jgYhfvsnHJgt"
      },
      "source": [
        "class Network(nn.Module):\n",
        "    def __init__(self):\n",
        "        super().__init__()\n",
        "        \n",
        "        # Inputs to hidden layer linear transformation\n",
        "        self.hidden = nn.Linear(784, 256)\n",
        "        # Output layer, 10 units - one for each digit\n",
        "        self.output = nn.Linear(256, 10)\n",
        "        \n",
        "        # Define sigmoid activation and softmax output \n",
        "        self.sigmoid = nn.Sigmoid()\n",
        "        self.softmax = nn.Softmax(dim=1)\n",
        "        \n",
        "    def forward(self, x):\n",
        "        # Pass the input tensor through each of our operations\n",
        "        x = self.hidden(x)\n",
        "        x = self.sigmoid(x)\n",
        "        x = self.output(x)\n",
        "        x = self.softmax(x)\n",
        "        \n",
        "        return x"
      ],
      "execution_count": 29,
      "outputs": []
    },
    {
      "cell_type": "markdown",
      "metadata": {
        "id": "k8U7HdLWHJgu"
      },
      "source": [
        "Let's go through this bit by bit.\n",
        "\n",
        "```python\n",
        "class Network(nn.Module):\n",
        "```\n",
        "\n",
        "Here we're inheriting from `nn.Module`. Combined with `super().__init__()` this creates a class that tracks the architecture and provides a lot of useful methods and attributes. It is mandatory to inherit from `nn.Module` when you're creating a class for your network. The name of the class itself can be anything.\n",
        "\n",
        "```python\n",
        "self.hidden = nn.Linear(784, 256)\n",
        "```\n",
        "\n",
        "This line creates a module for a linear transformation, $x\\mathbf{W} + b$, with 784 inputs and 256 outputs and assigns it to `self.hidden`. The module automatically creates the weight and bias tensors which we'll use in the `forward` method. You can access the weight and bias tensors once the network (`net`) is created with `net.hidden.weight` and `net.hidden.bias`.\n",
        "\n",
        "```python\n",
        "self.output = nn.Linear(256, 10)\n",
        "```\n",
        "\n",
        "Similarly, this creates another linear transformation with 256 inputs and 10 outputs.\n",
        "\n",
        "```python\n",
        "self.sigmoid = nn.Sigmoid()\n",
        "self.softmax = nn.Softmax(dim=1)\n",
        "```\n",
        "\n",
        "Here I defined operations for the sigmoid activation and softmax output. Setting `dim=1` in `nn.Softmax(dim=1)` calculates softmax across the columns.\n",
        "\n",
        "```python\n",
        "def forward(self, x):\n",
        "```\n",
        "\n",
        "PyTorch networks created with `nn.Module` must have a `forward` method defined. It takes in a tensor `x` and passes it through the operations you defined in the `__init__` method.\n",
        "\n",
        "```python\n",
        "x = self.hidden(x)\n",
        "x = self.sigmoid(x)\n",
        "x = self.output(x)\n",
        "x = self.softmax(x)\n",
        "```\n",
        "\n",
        "Here the input tensor `x` is passed through each operation and reassigned to `x`. We can see that the input tensor goes through the hidden layer, then a sigmoid function, then the output layer, and finally the softmax function. It doesn't matter what you name the variables here, as long as the inputs and outputs of the operations match the network architecture you want to build. The order in which you define things in the `__init__` method doesn't matter, but you'll need to sequence the operations correctly in the `forward` method.\n",
        "\n",
        "Now we can create a `Network` object."
      ]
    },
    {
      "cell_type": "code",
      "metadata": {
        "collapsed": true,
        "id": "SRVZqlpbHJgu",
        "outputId": "dd1dc927-ec57-430e-d8a9-aa3054cc16e3",
        "colab": {
          "base_uri": "https://localhost:8080/"
        }
      },
      "source": [
        "# Create the network and look at it's text representation\n",
        "model = Network()\n",
        "model"
      ],
      "execution_count": 30,
      "outputs": [
        {
          "output_type": "execute_result",
          "data": {
            "text/plain": [
              "Network(\n",
              "  (hidden): Linear(in_features=784, out_features=256, bias=True)\n",
              "  (output): Linear(in_features=256, out_features=10, bias=True)\n",
              "  (sigmoid): Sigmoid()\n",
              "  (softmax): Softmax(dim=1)\n",
              ")"
            ]
          },
          "metadata": {
            "tags": []
          },
          "execution_count": 30
        }
      ]
    },
    {
      "cell_type": "markdown",
      "metadata": {
        "id": "IkYqVCbYHJgu"
      },
      "source": [
        "You can define the network somewhat more concisely and clearly using the `torch.nn.functional` module. This is the most common way you'll see networks defined as many operations are simple element-wise functions. We normally import this module as `F`, `import torch.nn.functional as F`."
      ]
    },
    {
      "cell_type": "code",
      "metadata": {
        "collapsed": true,
        "id": "NKil3Y-FHJgu"
      },
      "source": [
        "import torch.nn.functional as F\n",
        "\n",
        "class Network(nn.Module):\n",
        "    def __init__(self):\n",
        "        super().__init__()\n",
        "        # Inputs to hidden layer linear transformation\n",
        "        self.hidden = nn.Linear(784, 256)\n",
        "        # Output layer, 10 units - one for each digit\n",
        "        self.output = nn.Linear(256, 10)\n",
        "        \n",
        "    def forward(self, x):\n",
        "        # Hidden layer with sigmoid activation\n",
        "        x = F.sigmoid(self.hidden(x))\n",
        "        # Output layer with softmax activation\n",
        "        x = F.softmax(self.output(x), dim=1)\n",
        "        \n",
        "        return x"
      ],
      "execution_count": 31,
      "outputs": []
    },
    {
      "cell_type": "markdown",
      "metadata": {
        "id": "evnf5NeUHJgv"
      },
      "source": [
        "### Activation functions\n",
        "\n",
        "So far we've only been looking at the sigmoid activation function, but in general any function can be used as an activation function. The only requirement is that for a network to approximate a non-linear function, the activation functions must be non-linear. Here are a few more examples of common activation functions: Tanh (hyperbolic tangent), and ReLU (rectified linear unit).\n",
        "\n",
        "<img src=\"https://github.com/udacity/deep-learning-v2-pytorch/blob/master/intro-to-pytorch/assets/activation.png?raw=1\" width=700px>\n",
        "\n",
        "In practice, the ReLU function is used almost exclusively as the activation function for hidden layers."
      ]
    },
    {
      "cell_type": "markdown",
      "metadata": {
        "id": "A2TjaTMLHJgv"
      },
      "source": [
        "### Your Turn to Build a Network\n",
        "\n",
        "<img src=\"https://github.com/udacity/deep-learning-v2-pytorch/blob/master/intro-to-pytorch/assets/mlp_mnist.png?raw=1\" width=600px>\n",
        "\n",
        "> **Exercise:** Create a network with 784 input units, a hidden layer with 128 units and a ReLU activation, then a hidden layer with 64 units and a ReLU activation, and finally an output layer with a softmax activation as shown above. You can use a ReLU activation with the `nn.ReLU` module or `F.relu` function.\n",
        "\n",
        "It's good practice to name your layers by their type of network, for instance 'fc' to represent a fully-connected layer. As you code your solution, use `fc1`, `fc2`, and `fc3` as your layer names."
      ]
    },
    {
      "cell_type": "code",
      "metadata": {
        "collapsed": true,
        "scrolled": true,
        "id": "OAWx6xaVHJgv"
      },
      "source": [
        "## Your solution here\n",
        "import torch.nn.functional as F\n",
        "\n",
        "class Network(nn.Module):\n",
        "    def __init__(self):\n",
        "        super().__init__()\n",
        "        \n",
        "        self.fc1 = nn.Linear(784, 128)\n",
        "        self.fc2 = nn.Linear(128, 64)\n",
        "        self.fc3 = nn.Linear(64, 10)\n",
        "        \n",
        "    def forward(self, x):\n",
        "        x = F.relu(self.fc1(x))\n",
        "        x = F.relu(self.fc2(x))\n",
        "        x = F.softmax(self.output(x), dim=1)\n",
        "        x = F.cross_entropy(x)\n",
        "        return x"
      ],
      "execution_count": 32,
      "outputs": []
    },
    {
      "cell_type": "markdown",
      "metadata": {
        "id": "Ak5oDYn0HJgv"
      },
      "source": [
        "### Initializing weights and biases\n",
        "\n",
        "The weights and such are automatically initialized for you, but it's possible to customize how they are initialized. The weights and biases are tensors attached to the layer you defined, you can get them with `model.fc1.weight` for instance."
      ]
    },
    {
      "cell_type": "code",
      "metadata": {
        "collapsed": true,
        "id": "rxYGI_hLHJgv",
        "outputId": "b3f05fd9-9bd2-4fc0-8884-2ba6f446990a",
        "colab": {
          "base_uri": "https://localhost:8080/",
          "height": 325
        }
      },
      "source": [
        "print(model.fc1.weight)\n",
        "print(model.fc1.bias)"
      ],
      "execution_count": 33,
      "outputs": [
        {
          "output_type": "error",
          "ename": "AttributeError",
          "evalue": "ignored",
          "traceback": [
            "\u001b[0;31m---------------------------------------------------------------------------\u001b[0m",
            "\u001b[0;31mAttributeError\u001b[0m                            Traceback (most recent call last)",
            "\u001b[0;32m<ipython-input-33-59b34e7f797b>\u001b[0m in \u001b[0;36m<module>\u001b[0;34m()\u001b[0m\n\u001b[0;32m----> 1\u001b[0;31m \u001b[0mprint\u001b[0m\u001b[0;34m(\u001b[0m\u001b[0mmodel\u001b[0m\u001b[0;34m.\u001b[0m\u001b[0mfc1\u001b[0m\u001b[0;34m.\u001b[0m\u001b[0mweight\u001b[0m\u001b[0;34m)\u001b[0m\u001b[0;34m\u001b[0m\u001b[0;34m\u001b[0m\u001b[0m\n\u001b[0m\u001b[1;32m      2\u001b[0m \u001b[0mprint\u001b[0m\u001b[0;34m(\u001b[0m\u001b[0mmodel\u001b[0m\u001b[0;34m.\u001b[0m\u001b[0mfc1\u001b[0m\u001b[0;34m.\u001b[0m\u001b[0mbias\u001b[0m\u001b[0;34m)\u001b[0m\u001b[0;34m\u001b[0m\u001b[0;34m\u001b[0m\u001b[0m\n",
            "\u001b[0;32m/usr/local/lib/python3.7/dist-packages/torch/nn/modules/module.py\u001b[0m in \u001b[0;36m__getattr__\u001b[0;34m(self, name)\u001b[0m\n\u001b[1;32m   1129\u001b[0m                 \u001b[0;32mreturn\u001b[0m \u001b[0mmodules\u001b[0m\u001b[0;34m[\u001b[0m\u001b[0mname\u001b[0m\u001b[0;34m]\u001b[0m\u001b[0;34m\u001b[0m\u001b[0;34m\u001b[0m\u001b[0m\n\u001b[1;32m   1130\u001b[0m         raise AttributeError(\"'{}' object has no attribute '{}'\".format(\n\u001b[0;32m-> 1131\u001b[0;31m             type(self).__name__, name))\n\u001b[0m\u001b[1;32m   1132\u001b[0m \u001b[0;34m\u001b[0m\u001b[0m\n\u001b[1;32m   1133\u001b[0m     \u001b[0;32mdef\u001b[0m \u001b[0m__setattr__\u001b[0m\u001b[0;34m(\u001b[0m\u001b[0mself\u001b[0m\u001b[0;34m,\u001b[0m \u001b[0mname\u001b[0m\u001b[0;34m:\u001b[0m \u001b[0mstr\u001b[0m\u001b[0;34m,\u001b[0m \u001b[0mvalue\u001b[0m\u001b[0;34m:\u001b[0m \u001b[0mUnion\u001b[0m\u001b[0;34m[\u001b[0m\u001b[0mTensor\u001b[0m\u001b[0;34m,\u001b[0m \u001b[0;34m'Module'\u001b[0m\u001b[0;34m]\u001b[0m\u001b[0;34m)\u001b[0m \u001b[0;34m->\u001b[0m \u001b[0;32mNone\u001b[0m\u001b[0;34m:\u001b[0m\u001b[0;34m\u001b[0m\u001b[0;34m\u001b[0m\u001b[0m\n",
            "\u001b[0;31mAttributeError\u001b[0m: 'Network' object has no attribute 'fc1'"
          ]
        }
      ]
    },
    {
      "cell_type": "markdown",
      "metadata": {
        "id": "axdsNxiPHJgw"
      },
      "source": [
        "For custom initialization, we want to modify these tensors in place. These are actually autograd *Variables*, so we need to get back the actual tensors with `model.fc1.weight.data`. Once we have the tensors, we can fill them with zeros (for biases) or random normal values."
      ]
    },
    {
      "cell_type": "code",
      "metadata": {
        "collapsed": true,
        "id": "tsNDi4tFHJgw"
      },
      "source": [
        "# Set biases to all zeros\n",
        "model.fc1.bias.data.fill_(0)"
      ],
      "execution_count": null,
      "outputs": []
    },
    {
      "cell_type": "code",
      "metadata": {
        "collapsed": true,
        "id": "Lbr0y-tLHJgw"
      },
      "source": [
        "# sample from random normal with standard dev = 0.01\n",
        "model.fc1.weight.data.normal_(std=0.01)"
      ],
      "execution_count": null,
      "outputs": []
    },
    {
      "cell_type": "markdown",
      "metadata": {
        "id": "NZIz-YAvHJgw"
      },
      "source": [
        "### Forward pass\n",
        "\n",
        "Now that we have a network, let's see what happens when we pass in an image."
      ]
    },
    {
      "cell_type": "code",
      "metadata": {
        "collapsed": true,
        "id": "ncw5Gd6eHJgw"
      },
      "source": [
        "# Grab some data \n",
        "dataiter = iter(trainloader)\n",
        "images, labels = dataiter.next()\n",
        "\n",
        "# Resize images into a 1D vector, new shape is (batch size, color channels, image pixels) \n",
        "images.resize_(64, 1, 784)\n",
        "# or images.resize_(images.shape[0], 1, 784) to automatically get batch size\n",
        "\n",
        "# Forward pass through the network\n",
        "img_idx = 0\n",
        "ps = model.forward(images[img_idx,:])\n",
        "\n",
        "img = images[img_idx]\n",
        "helper.view_classify(img.view(1, 28, 28), ps)"
      ],
      "execution_count": null,
      "outputs": []
    },
    {
      "cell_type": "markdown",
      "metadata": {
        "id": "LliWFBtPHJgw"
      },
      "source": [
        "As you can see above, our network has basically no idea what this digit is. It's because we haven't trained it yet, all the weights are random!\n",
        "\n",
        "### Using `nn.Sequential`\n",
        "\n",
        "PyTorch provides a convenient way to build networks like this where a tensor is passed sequentially through operations, `nn.Sequential` ([documentation](https://pytorch.org/docs/master/nn.html#torch.nn.Sequential)). Using this to build the equivalent network:"
      ]
    },
    {
      "cell_type": "code",
      "metadata": {
        "collapsed": true,
        "id": "l2IIE21SHJgw"
      },
      "source": [
        "# Hyperparameters for our network\n",
        "input_size = 784\n",
        "hidden_sizes = [128, 64]\n",
        "output_size = 10\n",
        "\n",
        "# Build a feed-forward network\n",
        "model = nn.Sequential(nn.Linear(input_size, hidden_sizes[0]),\n",
        "                      nn.ReLU(),\n",
        "                      nn.Linear(hidden_sizes[0], hidden_sizes[1]),\n",
        "                      nn.ReLU(),\n",
        "                      nn.Linear(hidden_sizes[1], output_size),\n",
        "                      nn.Softmax(dim=1))\n",
        "print(model)\n",
        "\n",
        "# Forward pass through the network and display output\n",
        "images, labels = next(iter(trainloader))\n",
        "images.resize_(images.shape[0], 1, 784)\n",
        "ps = model.forward(images[0,:])\n",
        "helper.view_classify(images[0].view(1, 28, 28), ps)"
      ],
      "execution_count": null,
      "outputs": []
    },
    {
      "cell_type": "markdown",
      "metadata": {
        "id": "EYkJaQeIHJgx"
      },
      "source": [
        "Here our model is the same as before: 784 input units, a hidden layer with 128 units, ReLU activation, 64 unit hidden layer, another ReLU, then the output layer with 10 units, and the softmax output.\n",
        "\n",
        "The operations are available by passing in the appropriate index. For example, if you want to get first Linear operation and look at the weights, you'd use `model[0]`."
      ]
    },
    {
      "cell_type": "code",
      "metadata": {
        "collapsed": true,
        "id": "dsLJYk2UHJgx"
      },
      "source": [
        "print(model[0])\n",
        "model[0].weight"
      ],
      "execution_count": null,
      "outputs": []
    },
    {
      "cell_type": "markdown",
      "metadata": {
        "id": "e91qEpetHJgx"
      },
      "source": [
        "You can also pass in an `OrderedDict` to name the individual layers and operations, instead of using incremental integers. Note that dictionary keys must be unique, so _each operation must have a different name_."
      ]
    },
    {
      "cell_type": "code",
      "metadata": {
        "collapsed": true,
        "id": "Y6pYbWkdHJgx"
      },
      "source": [
        "from collections import OrderedDict\n",
        "model = nn.Sequential(OrderedDict([\n",
        "                      ('fc1', nn.Linear(input_size, hidden_sizes[0])),\n",
        "                      ('relu1', nn.ReLU()),\n",
        "                      ('fc2', nn.Linear(hidden_sizes[0], hidden_sizes[1])),\n",
        "                      ('relu2', nn.ReLU()),\n",
        "                      ('output', nn.Linear(hidden_sizes[1], output_size)),\n",
        "                      ('softmax', nn.Softmax(dim=1))]))\n",
        "model"
      ],
      "execution_count": null,
      "outputs": []
    },
    {
      "cell_type": "markdown",
      "metadata": {
        "id": "Vcl9iEq4HJgx"
      },
      "source": [
        "Now you can access layers either by integer or the name"
      ]
    },
    {
      "cell_type": "code",
      "metadata": {
        "collapsed": true,
        "id": "wgw3k64UHJgx"
      },
      "source": [
        "print(model[0])\n",
        "print(model.fc1)"
      ],
      "execution_count": null,
      "outputs": []
    },
    {
      "cell_type": "markdown",
      "metadata": {
        "id": "5WMW69cTHJgx"
      },
      "source": [
        "In the next notebook, we'll see how we can train a neural network to accuractly predict the numbers appearing in the MNIST images."
      ]
    }
  ]
}